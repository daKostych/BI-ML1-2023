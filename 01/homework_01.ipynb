{
 "cells": [
  {
   "cell_type": "markdown",
   "id": "39a4a2e3-9454-41b3-9765-c3575e7ddf22",
   "metadata": {},
   "source": [
    "# Úkol č. 1 - předzpracování dat a binární klasifikace\n",
    "\n",
    "* Termíny jsou uvedeny na [courses.fit.cvut.cz](https://courses.fit.cvut.cz/BI-ML1/homeworks/index.html).\n",
    "* Pokud odevzdáte úkol po prvním termínu ale před nejzašším termínem, budete penalizování -12 body, pozdější odevzdání je bez bodu.\n",
    "* V rámci tohoto úkolu se musíte vypořádat s klasifikační úlohou s příznaky různých typů.\n",
    "* Před tím, než na nich postavíte predikční model, je třeba je nějakým způsobem převést do číselné reprezentace.\n",
    "    \n",
    "> **Úkoly jsou zadány tak, aby Vám daly prostor pro invenci. Vymyslet _jak přesně_ budete úkol řešit, je důležitou součástí zadání a originalita či nápaditost bude také hodnocena!**\n",
    "\n",
    "Využívejte buňky typu `Markdown` k vysvětlování Vašeho postupu. Za nepřehlednost budeme strhávat body.\n",
    "\n",
    "## Zdroj dat\n",
    "\n",
    "Budeme se zabývat predikcí přežití pasažérů Titaniku.\n",
    "K dispozici máte trénovací data v souboru `data.csv` a data na vyhodnocení v souboru `evaluation.csv`.\n",
    "\n",
    "#### Seznam příznaků:\n",
    "* survived - zda pasažér přežil, 0 = Ne, 1 = Ano, **vysvětlovaná proměnná**, kterou chcete predikovat\n",
    "* pclass - Třída lodního lístku, 1 = první, 2 = druhá, 3 = třetí\n",
    "* name - jméno\n",
    "* sex - pohlaví\n",
    "* age - věk v letech\n",
    "* sibsp\t- počet sourozenců / manželů, manželek na palubě\n",
    "* parch - počet rodičů / dětí na palubě\n",
    "* ticket - číslo lodního lístku\n",
    "* fare - cena lodního lístku\n",
    "* cabin\t- číslo kajuty\n",
    "* embarked\t- místo nalodění, C = Cherbourg, Q = Queenstown, S = Southampton\n",
    "* home.dest - Bydliště/Cíl\n",
    "\n",
    "## Pokyny k vypracování\n",
    "\n",
    "**Body zadání**, za jejichž (poctivé) vypracování získáte **25 bodů**: \n",
    "  * V notebooku načtěte data ze souboru `data.csv`. Vhodným způsobem si je rozdělte na podmnožiny, které Vám poslouží pro trénování (trénovací), porovnávání modelů (validační) a následnou predikci výkonnosti finálního modelu (testovací).\n",
    "    \n",
    "  * Proveďte základní předzpracování dat:\n",
    "    * Projděte si jednotlivé příznaky a transformujte je do vhodné podoby pro použití ve vybraném klasifikačním modelu.\n",
    "    * Podle potřeby si můžete vytvářet nové příznaky (na základě existujících), například tedy můžete vytvořit příznak měřící délku jména atp.\n",
    "    * Některé příznaky můžete také úplně zahodit.\n",
    "    * Nějakým způsobem se vypořádejte s chybějícími hodnotami. _Pozor na metodické chyby!_\n",
    "    * Můžete využívat i vizualizace a vše stručně ale náležitě komentujte.\n",
    "\n",
    "  \n",
    "  * Na připravená data postupně aplikujte **rozhodovací strom** a **metodu nejbližších sousedů**, přičemž pro každý z těchto modelů:\n",
    "    * Okomentujte vhodnost daného modelu pro daný typ úlohy.\n",
    "    * Vyberte si hlavní hyperparametry k ladění a najděte jejich nejlepší hodnoty.\n",
    "    * Pro model s nejlepšími hodnotami hyperparametrů spočtěte F1 skóre, nakreslete ROC křivku a určete AUC. _Pozor na metodické chyby!_\n",
    "    * Získané výsledky vždy řádně okomentujte.\n",
    "\n",
    "        \n",
    "  * Ze všech zkoušených možností v předchozím kroku vyberte finální model a odhadněte, jakou přesnost můžete očekávat na nových datech, která jste doposud neměli k dispozici. _Pozor na metodické chyby!_\n",
    "    \n",
    "  * Nakonec načtěte vyhodnocovací data ze souboru`evaluation.csv`. Pomocí finálního modelu napočítejte predikce pro tyto data (vysvětlovaná proměnná v nich již není). Vytvořte soubor `results.csv`, ve kterém získané predikce uložíte do dvou sloupců: **ID**, **survived**. Tento soubor též odevzdejte (uložte do repozitáře vedle notebooku).\n",
    "\n",
    "  * Ukázka prvních řádků souboru `results.csv`:\n",
    "  \n",
    "```\n",
    "ID,survived\n",
    "1000,0\n",
    "1001,1\n",
    "...\n",
    "```\n",
    "\n",
    "## Poznámky k odevzdání\n",
    "\n",
    "  * Řiďte se pokyny ze stránky https://courses.fit.cvut.cz/BI-ML1/homeworks/index.html."
   ]
  },
  {
   "cell_type": "markdown",
   "source": [
    "#### **Zajistíme vše potřebné...**"
   ],
   "metadata": {
    "collapsed": false
   },
   "id": "33b6287e37abcfe1"
  },
  {
   "cell_type": "code",
   "execution_count": 104,
   "id": "003f7995-4bc0-42d8-a9ac-456638cdd708",
   "metadata": {
    "ExecuteTime": {
     "end_time": "2023-11-02T13:35:35.780269443Z",
     "start_time": "2023-11-02T13:35:35.745461193Z"
    }
   },
   "outputs": [],
   "source": [
    "import pandas as pd\n",
    "import numpy as np\n",
    "\n",
    "import matplotlib.pyplot as plt\n",
    "%matplotlib inline\n",
    "\n",
    "rd_seed = 333 # konstanta pro random operace\n",
    "from sklearn.model_selection import train_test_split\n",
    "from sklearn.tree import DecisionTreeClassifier\n",
    "from sklearn.model_selection import ParameterGrid\n",
    "from sklearn import metrics\n",
    "from sklearn.metrics import f1_score, roc_auc_score\n",
    "from sklearn.metrics import roc_curve\n",
    "\n",
    "from sklearn.preprocessing import MinMaxScaler\n",
    "from sklearn.preprocessing import StandardScaler\n",
    "\n",
    "from sklearn.neighbors import KNeighborsClassifier"
   ]
  },
  {
   "cell_type": "code",
   "execution_count": 105,
   "outputs": [],
   "source": [
    "# Načtení dat z .csv souborů\n",
    "data = pd.read_csv(\"data.csv\")\n",
    "evaluation = pd.read_csv(\"evaluation.csv\")"
   ],
   "metadata": {
    "collapsed": false,
    "ExecuteTime": {
     "end_time": "2023-11-02T13:35:35.962926303Z",
     "start_time": "2023-11-02T13:35:35.937067234Z"
    }
   },
   "id": "37e239c56e055b6d"
  },
  {
   "cell_type": "code",
   "execution_count": 106,
   "outputs": [
    {
     "data": {
      "text/plain": "   ID  survived  pclass                                             name  \\\n0   0         0       3               Goodwin, Master. William Frederick   \n1   1         0       3                            Jardin, Mr. Jose Neto   \n2   2         0       3                            Skoog, Master. Harald   \n3   3         1       3  O'Brien, Mrs. Thomas (Johanna \"Hannah\" Godfrey)   \n4   4         1       3        Abrahim, Mrs. Joseph (Sophie Halaut Easu)   \n\n      sex   age  sibsp  parch              ticket     fare cabin embarked  \\\n0    male  11.0      5      2             CA 2144  46.9000   NaN        S   \n1    male   NaN      0      0  SOTON/O.Q. 3101305   7.0500   NaN        S   \n2    male   4.0      3      2              347088  27.9000   NaN        S   \n3  female   NaN      1      0              370365  15.5000   NaN        Q   \n4  female  18.0      0      0                2657   7.2292   NaN        C   \n\n                              home.dest  \n0  Wiltshire, England Niagara Falls, NY  \n1                                   NaN  \n2                                   NaN  \n3                                   NaN  \n4                        Greensburg, PA  ",
      "text/html": "<div>\n<style scoped>\n    .dataframe tbody tr th:only-of-type {\n        vertical-align: middle;\n    }\n\n    .dataframe tbody tr th {\n        vertical-align: top;\n    }\n\n    .dataframe thead th {\n        text-align: right;\n    }\n</style>\n<table border=\"1\" class=\"dataframe\">\n  <thead>\n    <tr style=\"text-align: right;\">\n      <th></th>\n      <th>ID</th>\n      <th>survived</th>\n      <th>pclass</th>\n      <th>name</th>\n      <th>sex</th>\n      <th>age</th>\n      <th>sibsp</th>\n      <th>parch</th>\n      <th>ticket</th>\n      <th>fare</th>\n      <th>cabin</th>\n      <th>embarked</th>\n      <th>home.dest</th>\n    </tr>\n  </thead>\n  <tbody>\n    <tr>\n      <th>0</th>\n      <td>0</td>\n      <td>0</td>\n      <td>3</td>\n      <td>Goodwin, Master. William Frederick</td>\n      <td>male</td>\n      <td>11.0</td>\n      <td>5</td>\n      <td>2</td>\n      <td>CA 2144</td>\n      <td>46.9000</td>\n      <td>NaN</td>\n      <td>S</td>\n      <td>Wiltshire, England Niagara Falls, NY</td>\n    </tr>\n    <tr>\n      <th>1</th>\n      <td>1</td>\n      <td>0</td>\n      <td>3</td>\n      <td>Jardin, Mr. Jose Neto</td>\n      <td>male</td>\n      <td>NaN</td>\n      <td>0</td>\n      <td>0</td>\n      <td>SOTON/O.Q. 3101305</td>\n      <td>7.0500</td>\n      <td>NaN</td>\n      <td>S</td>\n      <td>NaN</td>\n    </tr>\n    <tr>\n      <th>2</th>\n      <td>2</td>\n      <td>0</td>\n      <td>3</td>\n      <td>Skoog, Master. Harald</td>\n      <td>male</td>\n      <td>4.0</td>\n      <td>3</td>\n      <td>2</td>\n      <td>347088</td>\n      <td>27.9000</td>\n      <td>NaN</td>\n      <td>S</td>\n      <td>NaN</td>\n    </tr>\n    <tr>\n      <th>3</th>\n      <td>3</td>\n      <td>1</td>\n      <td>3</td>\n      <td>O'Brien, Mrs. Thomas (Johanna \"Hannah\" Godfrey)</td>\n      <td>female</td>\n      <td>NaN</td>\n      <td>1</td>\n      <td>0</td>\n      <td>370365</td>\n      <td>15.5000</td>\n      <td>NaN</td>\n      <td>Q</td>\n      <td>NaN</td>\n    </tr>\n    <tr>\n      <th>4</th>\n      <td>4</td>\n      <td>1</td>\n      <td>3</td>\n      <td>Abrahim, Mrs. Joseph (Sophie Halaut Easu)</td>\n      <td>female</td>\n      <td>18.0</td>\n      <td>0</td>\n      <td>0</td>\n      <td>2657</td>\n      <td>7.2292</td>\n      <td>NaN</td>\n      <td>C</td>\n      <td>Greensburg, PA</td>\n    </tr>\n  </tbody>\n</table>\n</div>"
     },
     "metadata": {},
     "output_type": "display_data"
    },
    {
     "name": "stdout",
     "output_type": "stream",
     "text": [
      "<class 'pandas.core.frame.DataFrame'>\n",
      "RangeIndex: 1000 entries, 0 to 999\n",
      "Data columns (total 13 columns):\n",
      " #   Column     Non-Null Count  Dtype  \n",
      "---  ------     --------------  -----  \n",
      " 0   ID         1000 non-null   int64  \n",
      " 1   survived   1000 non-null   int64  \n",
      " 2   pclass     1000 non-null   int64  \n",
      " 3   name       1000 non-null   object \n",
      " 4   sex        1000 non-null   object \n",
      " 5   age        802 non-null    float64\n",
      " 6   sibsp      1000 non-null   int64  \n",
      " 7   parch      1000 non-null   int64  \n",
      " 8   ticket     1000 non-null   object \n",
      " 9   fare       999 non-null    float64\n",
      " 10  cabin      233 non-null    object \n",
      " 11  embarked   998 non-null    object \n",
      " 12  home.dest  566 non-null    object \n",
      "dtypes: float64(2), int64(5), object(6)\n",
      "memory usage: 101.7+ KB\n"
     ]
    },
    {
     "data": {
      "text/plain": "None"
     },
     "metadata": {},
     "output_type": "display_data"
    },
    {
     "name": "stdout",
     "output_type": "stream",
     "text": [
      "\n",
      "Number of missing items in each column...\n"
     ]
    },
    {
     "data": {
      "text/plain": "ID             0\nsurvived       0\npclass         0\nname           0\nsex            0\nage          198\nsibsp          0\nparch          0\nticket         0\nfare           1\ncabin        767\nembarked       2\nhome.dest    434\ndtype: int64"
     },
     "metadata": {},
     "output_type": "display_data"
    },
    {
     "name": "stdout",
     "output_type": "stream",
     "text": [
      "\n",
      "Number of unique values...\n"
     ]
    },
    {
     "data": {
      "text/plain": "ID           1000\nsurvived        2\npclass          3\nname          999\nsex             2\nage            95\nsibsp           7\nparch           8\nticket        746\nfare          254\ncabin         157\nembarked        3\nhome.dest     313\ndtype: int64"
     },
     "metadata": {},
     "output_type": "display_data"
    }
   ],
   "source": [
    "# Základní přehled\n",
    "display(data.head())\n",
    "display(data.info())\n",
    "print(\"\\nNumber of missing items in each column...\")\n",
    "display(data.isnull().sum(axis=0))\n",
    "print(\"\\nNumber of unique values...\")\n",
    "display(data.nunique())"
   ],
   "metadata": {
    "collapsed": false,
    "ExecuteTime": {
     "end_time": "2023-11-02T13:35:36.121014380Z",
     "start_time": "2023-11-02T13:35:36.078566051Z"
    }
   },
   "id": "61251e6a8c511dd0"
  },
  {
   "cell_type": "markdown",
   "source": [
    "## Příprava dat\n",
    "\n",
    "* Dále budeme **současně** upravovat dva datasety, abychom na ně mohli použít naše modely"
   ],
   "metadata": {
    "collapsed": false
   },
   "id": "3be4af8c64ac3b60"
  },
  {
   "cell_type": "markdown",
   "source": [
    "* Sloupec \"ID\" lze použít jako identifikátor konkrétního cestujícího"
   ],
   "metadata": {
    "collapsed": false
   },
   "id": "33f404e3ae1749ae"
  },
  {
   "cell_type": "code",
   "execution_count": 107,
   "outputs": [],
   "source": [
    "data = data.set_index(\"ID\", drop=True, verify_integrity=True)\n",
    "evaluation = evaluation.set_index(\"ID\", drop=True, verify_integrity=True)"
   ],
   "metadata": {
    "collapsed": false,
    "ExecuteTime": {
     "end_time": "2023-11-02T13:35:36.541068892Z",
     "start_time": "2023-11-02T13:35:36.512892222Z"
    }
   },
   "id": "70de6e936c21afe7"
  },
  {
   "cell_type": "code",
   "execution_count": 108,
   "outputs": [
    {
     "data": {
      "text/plain": "    survived  pclass                                             name     sex  \\\nID                                                                              \n0          0       3               Goodwin, Master. William Frederick    male   \n1          0       3                            Jardin, Mr. Jose Neto    male   \n2          0       3                            Skoog, Master. Harald    male   \n3          1       3  O'Brien, Mrs. Thomas (Johanna \"Hannah\" Godfrey)  female   \n4          1       3        Abrahim, Mrs. Joseph (Sophie Halaut Easu)  female   \n\n     age  sibsp  parch              ticket     fare cabin embarked  \\\nID                                                                   \n0   11.0      5      2             CA 2144  46.9000   NaN        S   \n1    NaN      0      0  SOTON/O.Q. 3101305   7.0500   NaN        S   \n2    4.0      3      2              347088  27.9000   NaN        S   \n3    NaN      1      0              370365  15.5000   NaN        Q   \n4   18.0      0      0                2657   7.2292   NaN        C   \n\n                               home.dest  \nID                                        \n0   Wiltshire, England Niagara Falls, NY  \n1                                    NaN  \n2                                    NaN  \n3                                    NaN  \n4                         Greensburg, PA  ",
      "text/html": "<div>\n<style scoped>\n    .dataframe tbody tr th:only-of-type {\n        vertical-align: middle;\n    }\n\n    .dataframe tbody tr th {\n        vertical-align: top;\n    }\n\n    .dataframe thead th {\n        text-align: right;\n    }\n</style>\n<table border=\"1\" class=\"dataframe\">\n  <thead>\n    <tr style=\"text-align: right;\">\n      <th></th>\n      <th>survived</th>\n      <th>pclass</th>\n      <th>name</th>\n      <th>sex</th>\n      <th>age</th>\n      <th>sibsp</th>\n      <th>parch</th>\n      <th>ticket</th>\n      <th>fare</th>\n      <th>cabin</th>\n      <th>embarked</th>\n      <th>home.dest</th>\n    </tr>\n    <tr>\n      <th>ID</th>\n      <th></th>\n      <th></th>\n      <th></th>\n      <th></th>\n      <th></th>\n      <th></th>\n      <th></th>\n      <th></th>\n      <th></th>\n      <th></th>\n      <th></th>\n      <th></th>\n    </tr>\n  </thead>\n  <tbody>\n    <tr>\n      <th>0</th>\n      <td>0</td>\n      <td>3</td>\n      <td>Goodwin, Master. William Frederick</td>\n      <td>male</td>\n      <td>11.0</td>\n      <td>5</td>\n      <td>2</td>\n      <td>CA 2144</td>\n      <td>46.9000</td>\n      <td>NaN</td>\n      <td>S</td>\n      <td>Wiltshire, England Niagara Falls, NY</td>\n    </tr>\n    <tr>\n      <th>1</th>\n      <td>0</td>\n      <td>3</td>\n      <td>Jardin, Mr. Jose Neto</td>\n      <td>male</td>\n      <td>NaN</td>\n      <td>0</td>\n      <td>0</td>\n      <td>SOTON/O.Q. 3101305</td>\n      <td>7.0500</td>\n      <td>NaN</td>\n      <td>S</td>\n      <td>NaN</td>\n    </tr>\n    <tr>\n      <th>2</th>\n      <td>0</td>\n      <td>3</td>\n      <td>Skoog, Master. Harald</td>\n      <td>male</td>\n      <td>4.0</td>\n      <td>3</td>\n      <td>2</td>\n      <td>347088</td>\n      <td>27.9000</td>\n      <td>NaN</td>\n      <td>S</td>\n      <td>NaN</td>\n    </tr>\n    <tr>\n      <th>3</th>\n      <td>1</td>\n      <td>3</td>\n      <td>O'Brien, Mrs. Thomas (Johanna \"Hannah\" Godfrey)</td>\n      <td>female</td>\n      <td>NaN</td>\n      <td>1</td>\n      <td>0</td>\n      <td>370365</td>\n      <td>15.5000</td>\n      <td>NaN</td>\n      <td>Q</td>\n      <td>NaN</td>\n    </tr>\n    <tr>\n      <th>4</th>\n      <td>1</td>\n      <td>3</td>\n      <td>Abrahim, Mrs. Joseph (Sophie Halaut Easu)</td>\n      <td>female</td>\n      <td>18.0</td>\n      <td>0</td>\n      <td>0</td>\n      <td>2657</td>\n      <td>7.2292</td>\n      <td>NaN</td>\n      <td>C</td>\n      <td>Greensburg, PA</td>\n    </tr>\n  </tbody>\n</table>\n</div>"
     },
     "execution_count": 108,
     "metadata": {},
     "output_type": "execute_result"
    }
   ],
   "source": [
    "data.head()"
   ],
   "metadata": {
    "collapsed": false,
    "ExecuteTime": {
     "end_time": "2023-11-02T13:35:36.692268969Z",
     "start_time": "2023-11-02T13:35:36.670698476Z"
    }
   },
   "id": "e3af589fee2eb4bb"
  },
  {
   "cell_type": "markdown",
   "source": [
    "* Příznak \"pclass\" je **ordinílní**, dá se ho seřadit podle komfortu třidy"
   ],
   "metadata": {
    "collapsed": false
   },
   "id": "acde1bc3adead925"
  },
  {
   "cell_type": "code",
   "execution_count": 109,
   "outputs": [
    {
     "name": "stdout",
     "output_type": "stream",
     "text": [
      "[3 2 1]\n"
     ]
    }
   ],
   "source": [
    "pclass_unique = data.pclass.unique()\n",
    "print(pclass_unique)"
   ],
   "metadata": {
    "collapsed": false,
    "ExecuteTime": {
     "end_time": "2023-11-02T13:35:37.042270540Z",
     "start_time": "2023-11-02T13:35:36.996586762Z"
    }
   },
   "id": "871c80bb7be624bc"
  },
  {
   "cell_type": "markdown",
   "source": [
    "* Konverze příznaku \"pclass\" na categoricky typ"
   ],
   "metadata": {
    "collapsed": false
   },
   "id": "f5824568ab3dfbff"
  },
  {
   "cell_type": "code",
   "execution_count": 110,
   "outputs": [],
   "source": [
    "pclass_category = pd.api.types.CategoricalDtype(categories=pclass_unique, ordered=True)\n",
    "\n",
    "data.pclass = data.pclass.astype(pclass_category)\n",
    "evaluation.pclass = evaluation.pclass.astype(pclass_category)"
   ],
   "metadata": {
    "collapsed": false,
    "ExecuteTime": {
     "end_time": "2023-11-02T13:35:37.243894620Z",
     "start_time": "2023-11-02T13:35:37.220008115Z"
    }
   },
   "id": "7c683b8df45adf72"
  },
  {
   "cell_type": "code",
   "execution_count": 111,
   "outputs": [
    {
     "name": "stdout",
     "output_type": "stream",
     "text": [
      "<class 'pandas.core.frame.DataFrame'>\n",
      "Index: 1000 entries, 0 to 999\n",
      "Data columns (total 12 columns):\n",
      " #   Column     Non-Null Count  Dtype   \n",
      "---  ------     --------------  -----   \n",
      " 0   survived   1000 non-null   int64   \n",
      " 1   pclass     1000 non-null   category\n",
      " 2   name       1000 non-null   object  \n",
      " 3   sex        1000 non-null   object  \n",
      " 4   age        802 non-null    float64 \n",
      " 5   sibsp      1000 non-null   int64   \n",
      " 6   parch      1000 non-null   int64   \n",
      " 7   ticket     1000 non-null   object  \n",
      " 8   fare       999 non-null    float64 \n",
      " 9   cabin      233 non-null    object  \n",
      " 10  embarked   998 non-null    object  \n",
      " 11  home.dest  566 non-null    object  \n",
      "dtypes: category(1), float64(2), int64(3), object(6)\n",
      "memory usage: 94.9+ KB\n"
     ]
    }
   ],
   "source": [
    "data.info()"
   ],
   "metadata": {
    "collapsed": false,
    "ExecuteTime": {
     "end_time": "2023-11-02T13:35:37.414509642Z",
     "start_time": "2023-11-02T13:35:37.398476993Z"
    }
   },
   "id": "f36faf180ede5b03"
  },
  {
   "cell_type": "code",
   "execution_count": 112,
   "outputs": [
    {
     "name": "stdout",
     "output_type": "stream",
     "text": [
      "Number of unique names: 999\n"
     ]
    }
   ],
   "source": [
    "print(f'Number of unique names: {data.name.nunique()}')"
   ],
   "metadata": {
    "collapsed": false,
    "ExecuteTime": {
     "end_time": "2023-11-02T13:35:37.548868050Z",
     "start_time": "2023-11-02T13:35:37.529660435Z"
    }
   },
   "id": "bdde6199b12b140e"
  },
  {
   "cell_type": "markdown",
   "source": [
    " * Je zřejmé, že naše prognóza nebude záviset na jménu\n",
    " * V případě rozhodujícího stromu nebude možné nějak adekvátně rozdělit cestujících\n",
    "  * V případě metody kNN nebude možné najít cestujícího se stejným jménem\n",
    "* Proto můžeme tento atribut odstranit"
   ],
   "metadata": {
    "collapsed": false
   },
   "id": "3f1f9930b1850d13"
  },
  {
   "cell_type": "code",
   "execution_count": 113,
   "outputs": [],
   "source": [
    "data = data.drop(columns=[\"name\"])\n",
    "evaluation = evaluation.drop(columns=[\"name\"])"
   ],
   "metadata": {
    "collapsed": false,
    "ExecuteTime": {
     "end_time": "2023-11-02T13:35:37.834615083Z",
     "start_time": "2023-11-02T13:35:37.815136872Z"
    }
   },
   "id": "b64e352fd9ced5a5"
  },
  {
   "cell_type": "code",
   "execution_count": 114,
   "outputs": [
    {
     "name": "stdout",
     "output_type": "stream",
     "text": [
      "<class 'pandas.core.frame.DataFrame'>\n",
      "Index: 1000 entries, 0 to 999\n",
      "Data columns (total 11 columns):\n",
      " #   Column     Non-Null Count  Dtype   \n",
      "---  ------     --------------  -----   \n",
      " 0   survived   1000 non-null   int64   \n",
      " 1   pclass     1000 non-null   category\n",
      " 2   sex        1000 non-null   object  \n",
      " 3   age        802 non-null    float64 \n",
      " 4   sibsp      1000 non-null   int64   \n",
      " 5   parch      1000 non-null   int64   \n",
      " 6   ticket     1000 non-null   object  \n",
      " 7   fare       999 non-null    float64 \n",
      " 8   cabin      233 non-null    object  \n",
      " 9   embarked   998 non-null    object  \n",
      " 10  home.dest  566 non-null    object  \n",
      "dtypes: category(1), float64(2), int64(3), object(5)\n",
      "memory usage: 87.0+ KB\n"
     ]
    }
   ],
   "source": [
    "data.info()"
   ],
   "metadata": {
    "collapsed": false,
    "ExecuteTime": {
     "end_time": "2023-11-02T13:35:38.031701826Z",
     "start_time": "2023-11-02T13:35:38.011747330Z"
    }
   },
   "id": "7fac0ae84f6dc2a0"
  },
  {
   "cell_type": "markdown",
   "source": [
    "* Rozdělíme atribut \"home.dest\" na dva atributy \"home\" a \"dest\""
   ],
   "metadata": {
    "collapsed": false
   },
   "id": "7c6b7674e834b1c6"
  },
  {
   "cell_type": "code",
   "execution_count": 115,
   "outputs": [],
   "source": [
    "data[[\"home\", \"dest\"]] = data[\"home.dest\"].str.rsplit(',', n=1, expand=True)\n",
    "evaluation[[\"home\", \"dest\"]] = evaluation[\"home.dest\"].str.rsplit(',', n=1, expand=True)"
   ],
   "metadata": {
    "collapsed": false,
    "ExecuteTime": {
     "end_time": "2023-11-02T13:35:38.292621463Z",
     "start_time": "2023-11-02T13:35:38.265072670Z"
    }
   },
   "id": "2e097ffafc525bc1"
  },
  {
   "cell_type": "code",
   "execution_count": 116,
   "outputs": [],
   "source": [
    "data.drop(columns=\"home.dest\", inplace=True)\n",
    "evaluation.drop(columns=\"home.dest\", inplace=True)"
   ],
   "metadata": {
    "collapsed": false,
    "ExecuteTime": {
     "end_time": "2023-11-02T13:35:38.454300860Z",
     "start_time": "2023-11-02T13:35:38.432514694Z"
    }
   },
   "id": "99b64a11f704cd6c"
  },
  {
   "cell_type": "markdown",
   "source": [
    "* Ostatní atributy jsou **nominální**, protože je nelze přirozeně sečadit"
   ],
   "metadata": {
    "collapsed": false
   },
   "id": "564c7a423eafe01"
  },
  {
   "cell_type": "code",
   "execution_count": 117,
   "outputs": [
    {
     "name": "stdout",
     "output_type": "stream",
     "text": [
      "Nominal attributes...\n",
      "Index(['sex', 'ticket', 'cabin', 'embarked', 'home', 'dest'], dtype='object')\n"
     ]
    }
   ],
   "source": [
    "object_columns = data.select_dtypes([\"object\"]).columns\n",
    "print(\"Nominal attributes...\")\n",
    "print(object_columns)"
   ],
   "metadata": {
    "collapsed": false,
    "ExecuteTime": {
     "end_time": "2023-11-02T13:35:38.755708184Z",
     "start_time": "2023-11-02T13:35:38.704550564Z"
    }
   },
   "id": "974c12c6432a226e"
  },
  {
   "cell_type": "markdown",
   "source": [
    "* Dalším krokem je převést všechny zbývající atributy typu \"object\" na typ \"category\" a přiřadit jim číselné hodnoty\n",
    "* Aby však ve dvou datasetech měly stejné hodnoty stejné číselné kódy, je třeba nejprve sloučit dva datasety do jednoho\n",
    "* To však musí být provedeno se zachováním předchozí indexace, aby následně bylo možné bez ztráty dat rozdělit velký dataset na předchozí\n",
    "* Spojit dva datasety stojí především proto, že funkce **cat.codes** přiřazuje čísla hodnotám v pořadí, ve kterém se tyto hodnoty objevují v datasetu"
   ],
   "metadata": {
    "collapsed": false
   },
   "id": "622258947cd6afa2"
  },
  {
   "cell_type": "code",
   "execution_count": 118,
   "outputs": [],
   "source": [
    "all_data = pd.concat([data, evaluation], ignore_index=False)"
   ],
   "metadata": {
    "collapsed": false,
    "ExecuteTime": {
     "end_time": "2023-11-02T13:35:39.011001470Z",
     "start_time": "2023-11-02T13:35:38.980173962Z"
    }
   },
   "id": "73d6dafd1723b07c"
  },
  {
   "cell_type": "code",
   "execution_count": 119,
   "outputs": [
    {
     "data": {
      "text/plain": "    survived pclass     sex   age  sibsp  parch              ticket     fare  \\\nID                                                                             \n0        0.0      3    male  11.0      5      2             CA 2144  46.9000   \n1        0.0      3    male   NaN      0      0  SOTON/O.Q. 3101305   7.0500   \n2        0.0      3    male   4.0      3      2              347088  27.9000   \n3        1.0      3  female   NaN      1      0              370365  15.5000   \n4        1.0      3  female  18.0      0      0                2657   7.2292   \n\n   cabin embarked                              home dest  \nID                                                        \n0    NaN        S  Wiltshire, England Niagara Falls   NY  \n1    NaN        S                               NaN  NaN  \n2    NaN        S                               NaN  NaN  \n3    NaN        Q                               NaN  NaN  \n4    NaN        C                        Greensburg   PA  ",
      "text/html": "<div>\n<style scoped>\n    .dataframe tbody tr th:only-of-type {\n        vertical-align: middle;\n    }\n\n    .dataframe tbody tr th {\n        vertical-align: top;\n    }\n\n    .dataframe thead th {\n        text-align: right;\n    }\n</style>\n<table border=\"1\" class=\"dataframe\">\n  <thead>\n    <tr style=\"text-align: right;\">\n      <th></th>\n      <th>survived</th>\n      <th>pclass</th>\n      <th>sex</th>\n      <th>age</th>\n      <th>sibsp</th>\n      <th>parch</th>\n      <th>ticket</th>\n      <th>fare</th>\n      <th>cabin</th>\n      <th>embarked</th>\n      <th>home</th>\n      <th>dest</th>\n    </tr>\n    <tr>\n      <th>ID</th>\n      <th></th>\n      <th></th>\n      <th></th>\n      <th></th>\n      <th></th>\n      <th></th>\n      <th></th>\n      <th></th>\n      <th></th>\n      <th></th>\n      <th></th>\n      <th></th>\n    </tr>\n  </thead>\n  <tbody>\n    <tr>\n      <th>0</th>\n      <td>0.0</td>\n      <td>3</td>\n      <td>male</td>\n      <td>11.0</td>\n      <td>5</td>\n      <td>2</td>\n      <td>CA 2144</td>\n      <td>46.9000</td>\n      <td>NaN</td>\n      <td>S</td>\n      <td>Wiltshire, England Niagara Falls</td>\n      <td>NY</td>\n    </tr>\n    <tr>\n      <th>1</th>\n      <td>0.0</td>\n      <td>3</td>\n      <td>male</td>\n      <td>NaN</td>\n      <td>0</td>\n      <td>0</td>\n      <td>SOTON/O.Q. 3101305</td>\n      <td>7.0500</td>\n      <td>NaN</td>\n      <td>S</td>\n      <td>NaN</td>\n      <td>NaN</td>\n    </tr>\n    <tr>\n      <th>2</th>\n      <td>0.0</td>\n      <td>3</td>\n      <td>male</td>\n      <td>4.0</td>\n      <td>3</td>\n      <td>2</td>\n      <td>347088</td>\n      <td>27.9000</td>\n      <td>NaN</td>\n      <td>S</td>\n      <td>NaN</td>\n      <td>NaN</td>\n    </tr>\n    <tr>\n      <th>3</th>\n      <td>1.0</td>\n      <td>3</td>\n      <td>female</td>\n      <td>NaN</td>\n      <td>1</td>\n      <td>0</td>\n      <td>370365</td>\n      <td>15.5000</td>\n      <td>NaN</td>\n      <td>Q</td>\n      <td>NaN</td>\n      <td>NaN</td>\n    </tr>\n    <tr>\n      <th>4</th>\n      <td>1.0</td>\n      <td>3</td>\n      <td>female</td>\n      <td>18.0</td>\n      <td>0</td>\n      <td>0</td>\n      <td>2657</td>\n      <td>7.2292</td>\n      <td>NaN</td>\n      <td>C</td>\n      <td>Greensburg</td>\n      <td>PA</td>\n    </tr>\n  </tbody>\n</table>\n</div>"
     },
     "metadata": {},
     "output_type": "display_data"
    },
    {
     "data": {
      "text/plain": "      survived pclass   sex   age  sibsp  parch    ticket     fare cabin  \\\nID                                                                         \n1304       NaN      2  male  25.0      0      0    234686  13.0000   NaN   \n1305       NaN      3  male  34.5      0      0      2683   6.4375   NaN   \n1306       NaN      3  male   NaN      0      0    368573   7.7500   NaN   \n1307       NaN      1  male  24.0      0      0  PC 17593  79.2000   B86   \n1308       NaN      3  male  17.0      1      0    350048   7.0542   NaN   \n\n     embarked              home    dest  \nID                                       \n1304        S          Southsea   Hants  \n1305        C               NaN     NaN  \n1306        Q  Ireland New York      NY  \n1307        C               NaN     NaN  \n1308        S               NaN     NaN  ",
      "text/html": "<div>\n<style scoped>\n    .dataframe tbody tr th:only-of-type {\n        vertical-align: middle;\n    }\n\n    .dataframe tbody tr th {\n        vertical-align: top;\n    }\n\n    .dataframe thead th {\n        text-align: right;\n    }\n</style>\n<table border=\"1\" class=\"dataframe\">\n  <thead>\n    <tr style=\"text-align: right;\">\n      <th></th>\n      <th>survived</th>\n      <th>pclass</th>\n      <th>sex</th>\n      <th>age</th>\n      <th>sibsp</th>\n      <th>parch</th>\n      <th>ticket</th>\n      <th>fare</th>\n      <th>cabin</th>\n      <th>embarked</th>\n      <th>home</th>\n      <th>dest</th>\n    </tr>\n    <tr>\n      <th>ID</th>\n      <th></th>\n      <th></th>\n      <th></th>\n      <th></th>\n      <th></th>\n      <th></th>\n      <th></th>\n      <th></th>\n      <th></th>\n      <th></th>\n      <th></th>\n      <th></th>\n    </tr>\n  </thead>\n  <tbody>\n    <tr>\n      <th>1304</th>\n      <td>NaN</td>\n      <td>2</td>\n      <td>male</td>\n      <td>25.0</td>\n      <td>0</td>\n      <td>0</td>\n      <td>234686</td>\n      <td>13.0000</td>\n      <td>NaN</td>\n      <td>S</td>\n      <td>Southsea</td>\n      <td>Hants</td>\n    </tr>\n    <tr>\n      <th>1305</th>\n      <td>NaN</td>\n      <td>3</td>\n      <td>male</td>\n      <td>34.5</td>\n      <td>0</td>\n      <td>0</td>\n      <td>2683</td>\n      <td>6.4375</td>\n      <td>NaN</td>\n      <td>C</td>\n      <td>NaN</td>\n      <td>NaN</td>\n    </tr>\n    <tr>\n      <th>1306</th>\n      <td>NaN</td>\n      <td>3</td>\n      <td>male</td>\n      <td>NaN</td>\n      <td>0</td>\n      <td>0</td>\n      <td>368573</td>\n      <td>7.7500</td>\n      <td>NaN</td>\n      <td>Q</td>\n      <td>Ireland New York</td>\n      <td>NY</td>\n    </tr>\n    <tr>\n      <th>1307</th>\n      <td>NaN</td>\n      <td>1</td>\n      <td>male</td>\n      <td>24.0</td>\n      <td>0</td>\n      <td>0</td>\n      <td>PC 17593</td>\n      <td>79.2000</td>\n      <td>B86</td>\n      <td>C</td>\n      <td>NaN</td>\n      <td>NaN</td>\n    </tr>\n    <tr>\n      <th>1308</th>\n      <td>NaN</td>\n      <td>3</td>\n      <td>male</td>\n      <td>17.0</td>\n      <td>1</td>\n      <td>0</td>\n      <td>350048</td>\n      <td>7.0542</td>\n      <td>NaN</td>\n      <td>S</td>\n      <td>NaN</td>\n      <td>NaN</td>\n    </tr>\n  </tbody>\n</table>\n</div>"
     },
     "metadata": {},
     "output_type": "display_data"
    },
    {
     "name": "stdout",
     "output_type": "stream",
     "text": [
      "<class 'pandas.core.frame.DataFrame'>\n",
      "Index: 1309 entries, 0 to 1308\n",
      "Data columns (total 12 columns):\n",
      " #   Column    Non-Null Count  Dtype   \n",
      "---  ------    --------------  -----   \n",
      " 0   survived  1000 non-null   float64 \n",
      " 1   pclass    1309 non-null   category\n",
      " 2   sex       1309 non-null   object  \n",
      " 3   age       1046 non-null   float64 \n",
      " 4   sibsp     1309 non-null   int64   \n",
      " 5   parch     1309 non-null   int64   \n",
      " 6   ticket    1309 non-null   object  \n",
      " 7   fare      1308 non-null   float64 \n",
      " 8   cabin     295 non-null    object  \n",
      " 9   embarked  1307 non-null   object  \n",
      " 10  home      745 non-null    object  \n",
      " 11  dest      681 non-null    object  \n",
      "dtypes: category(1), float64(3), int64(2), object(6)\n",
      "memory usage: 124.1+ KB\n"
     ]
    }
   ],
   "source": [
    "display(all_data.head())\n",
    "display(all_data.tail())\n",
    "all_data.info()"
   ],
   "metadata": {
    "collapsed": false,
    "ExecuteTime": {
     "end_time": "2023-11-02T13:35:39.231751379Z",
     "start_time": "2023-11-02T13:35:39.184520398Z"
    }
   },
   "id": "1d8182444b4e70df"
  },
  {
   "cell_type": "code",
   "execution_count": 120,
   "outputs": [],
   "source": [
    "all_data[object_columns] = all_data[object_columns].astype('category').apply(lambda x: x.cat.codes)"
   ],
   "metadata": {
    "collapsed": false,
    "ExecuteTime": {
     "end_time": "2023-11-02T13:35:39.470425716Z",
     "start_time": "2023-11-02T13:35:39.329196923Z"
    }
   },
   "id": "31755010b02f4468"
  },
  {
   "cell_type": "markdown",
   "source": [
    "* Zpět rozdělíme dataset na původní dva"
   ],
   "metadata": {
    "collapsed": false
   },
   "id": "db9563b2e1c1a977"
  },
  {
   "cell_type": "code",
   "execution_count": 121,
   "outputs": [],
   "source": [
    "data = all_data.iloc[:1000, :]\n",
    "evaluation = all_data.iloc[1000:, :]"
   ],
   "metadata": {
    "collapsed": false,
    "ExecuteTime": {
     "end_time": "2023-11-02T13:35:39.715556930Z",
     "start_time": "2023-11-02T13:35:39.608318381Z"
    }
   },
   "id": "df03744cf7a04cd1"
  },
  {
   "cell_type": "code",
   "execution_count": 122,
   "outputs": [
    {
     "name": "stdout",
     "output_type": "stream",
     "text": [
      "<class 'pandas.core.frame.DataFrame'>\n",
      "Index: 1000 entries, 0 to 999\n",
      "Data columns (total 12 columns):\n",
      " #   Column    Non-Null Count  Dtype   \n",
      "---  ------    --------------  -----   \n",
      " 0   survived  1000 non-null   float64 \n",
      " 1   pclass    1000 non-null   category\n",
      " 2   sex       1000 non-null   int8    \n",
      " 3   age       802 non-null    float64 \n",
      " 4   sibsp     1000 non-null   int64   \n",
      " 5   parch     1000 non-null   int64   \n",
      " 6   ticket    1000 non-null   int16   \n",
      " 7   fare      999 non-null    float64 \n",
      " 8   cabin     1000 non-null   int16   \n",
      " 9   embarked  1000 non-null   int8    \n",
      " 10  home      1000 non-null   int16   \n",
      " 11  dest      1000 non-null   int8    \n",
      "dtypes: category(1), float64(3), int16(3), int64(2), int8(3)\n",
      "memory usage: 56.8 KB\n"
     ]
    }
   ],
   "source": [
    "data.info()"
   ],
   "metadata": {
    "collapsed": false,
    "ExecuteTime": {
     "end_time": "2023-11-02T13:35:39.814237821Z",
     "start_time": "2023-11-02T13:35:39.768962909Z"
    }
   },
   "id": "fa797e0bf0b25ac6"
  },
  {
   "cell_type": "code",
   "execution_count": 123,
   "outputs": [
    {
     "name": "stdout",
     "output_type": "stream",
     "text": [
      "<class 'pandas.core.frame.DataFrame'>\n",
      "Index: 309 entries, 1000 to 1308\n",
      "Data columns (total 11 columns):\n",
      " #   Column    Non-Null Count  Dtype   \n",
      "---  ------    --------------  -----   \n",
      " 0   pclass    309 non-null    category\n",
      " 1   sex       309 non-null    int8    \n",
      " 2   age       244 non-null    float64 \n",
      " 3   sibsp     309 non-null    int64   \n",
      " 4   parch     309 non-null    int64   \n",
      " 5   ticket    309 non-null    int16   \n",
      " 6   fare      309 non-null    float64 \n",
      " 7   cabin     309 non-null    int16   \n",
      " 8   embarked  309 non-null    int8    \n",
      " 9   home      309 non-null    int16   \n",
      " 10  dest      309 non-null    int8    \n",
      "dtypes: category(1), float64(2), int16(3), int64(2), int8(3)\n",
      "memory usage: 15.2 KB\n"
     ]
    },
    {
     "name": "stderr",
     "output_type": "stream",
     "text": [
      "/tmp/ipykernel_4413/4073313525.py:1: SettingWithCopyWarning: \n",
      "A value is trying to be set on a copy of a slice from a DataFrame\n",
      "\n",
      "See the caveats in the documentation: https://pandas.pydata.org/pandas-docs/stable/user_guide/indexing.html#returning-a-view-versus-a-copy\n",
      "  evaluation.drop(columns=[\"survived\"], inplace=True)\n"
     ]
    }
   ],
   "source": [
    "evaluation.drop(columns=[\"survived\"], inplace=True)\n",
    "evaluation.info()"
   ],
   "metadata": {
    "collapsed": false,
    "ExecuteTime": {
     "end_time": "2023-11-02T13:35:39.962281083Z",
     "start_time": "2023-11-02T13:35:39.906731908Z"
    }
   },
   "id": "b2c6492c032f0143"
  },
  {
   "cell_type": "markdown",
   "source": [
    "* Funkce **cat.codes** přeložila chybějící hodnoty na -1, takže přeložíme všechny zbývající chybějící hodnoty v datasetu na hodnotu -1"
   ],
   "metadata": {
    "collapsed": false
   },
   "id": "1fa7e0a2ca4f63a3"
  },
  {
   "cell_type": "code",
   "execution_count": 124,
   "outputs": [
    {
     "data": {
      "text/plain": "survived      0\npclass        0\nsex           0\nage         198\nsibsp         0\nparch         0\nticket        0\nfare          1\ncabin         0\nembarked      0\nhome          0\ndest          0\ndtype: int64"
     },
     "execution_count": 124,
     "metadata": {},
     "output_type": "execute_result"
    }
   ],
   "source": [
    "data.isnull().sum(axis=0)"
   ],
   "metadata": {
    "collapsed": false,
    "ExecuteTime": {
     "end_time": "2023-11-02T13:35:40.226633564Z",
     "start_time": "2023-11-02T13:35:40.203660169Z"
    }
   },
   "id": "bfce2ff77d08a9fb"
  },
  {
   "cell_type": "code",
   "execution_count": 125,
   "outputs": [],
   "source": [
    "data = data.replace(np.nan, -1)\n",
    "evaluation = evaluation.replace(np.nan, -1)"
   ],
   "metadata": {
    "collapsed": false,
    "ExecuteTime": {
     "end_time": "2023-11-02T13:35:40.443491346Z",
     "start_time": "2023-11-02T13:35:40.412793141Z"
    }
   },
   "id": "c117cd62c0593732"
  },
  {
   "cell_type": "code",
   "execution_count": 126,
   "outputs": [
    {
     "data": {
      "text/plain": "survived    0\npclass      0\nsex         0\nage         0\nsibsp       0\nparch       0\nticket      0\nfare        0\ncabin       0\nembarked    0\nhome        0\ndest        0\ndtype: int64"
     },
     "execution_count": 126,
     "metadata": {},
     "output_type": "execute_result"
    }
   ],
   "source": [
    "data.isnull().sum(axis=0)"
   ],
   "metadata": {
    "collapsed": false,
    "ExecuteTime": {
     "end_time": "2023-11-02T13:35:40.598639639Z",
     "start_time": "2023-11-02T13:35:40.541394214Z"
    }
   },
   "id": "3e89088f568adc3"
  },
  {
   "cell_type": "markdown",
   "source": [
    "* Abychom se vyhnuli možným chybám, uděláme dvě kopie dat pro trénink zvlášť pro každý model"
   ],
   "metadata": {
    "collapsed": false
   },
   "id": "4d91986e0c281690"
  },
  {
   "cell_type": "code",
   "execution_count": 127,
   "outputs": [],
   "source": [
    "# Copy for decision tree data\n",
    "tree_Xdata = data.drop(columns=\"survived\")\n",
    "tree_ydata = data.survived\n",
    "\n",
    "# Copy for kNN\n",
    "kNN_Xdata = data.drop(columns=\"survived\")\n",
    "kNN_ydata = data.survived"
   ],
   "metadata": {
    "collapsed": false,
    "ExecuteTime": {
     "end_time": "2023-11-02T13:35:40.836227445Z",
     "start_time": "2023-11-02T13:35:40.819422320Z"
    }
   },
   "id": "4a200b843d1141d3"
  },
  {
   "cell_type": "markdown",
   "source": [
    "## Decision tree...\n",
    "* Výhody tohoto modelu\n",
    "    * Interpretovatelnost: snadno pochopitelná logika řešení.\n",
    "    * Zvýraznění důležitých atributů: identifikují klíčové faktory přežití.\n",
    "    * Snadné vnímání: prezentováno jako jednoduchá pravidla.\n",
    "    * Zpracování různých typů dat: pracují s číselnými a kategorickými daty."
   ],
   "metadata": {
    "collapsed": false
   },
   "id": "8e54edbf46338bc7"
  },
  {
   "cell_type": "markdown",
   "source": [
    "* Data rozdělíme do tří částí: trénovací, validační a testovací v poměru 60/20/20 %\n",
    "* Používáme funkci **train_test_split()**"
   ],
   "metadata": {
    "collapsed": false
   },
   "id": "52e7597f40485d1c"
  },
  {
   "cell_type": "code",
   "execution_count": 128,
   "outputs": [],
   "source": [
    "XtrainDT, XtestDT, ytrainDT, ytestDT = train_test_split(tree_Xdata, tree_ydata, test_size=0.4, random_state=rd_seed)"
   ],
   "metadata": {
    "collapsed": false,
    "ExecuteTime": {
     "end_time": "2023-11-02T13:35:41.330520541Z",
     "start_time": "2023-11-02T13:35:41.270631205Z"
    }
   },
   "id": "3747ac64dfb85472"
  },
  {
   "cell_type": "code",
   "execution_count": 129,
   "outputs": [
    {
     "data": {
      "text/plain": "(600, 11)"
     },
     "metadata": {},
     "output_type": "display_data"
    },
    {
     "data": {
      "text/plain": "(600,)"
     },
     "metadata": {},
     "output_type": "display_data"
    },
    {
     "data": {
      "text/plain": "(400, 11)"
     },
     "metadata": {},
     "output_type": "display_data"
    },
    {
     "data": {
      "text/plain": "(400,)"
     },
     "metadata": {},
     "output_type": "display_data"
    }
   ],
   "source": [
    "display(XtrainDT.shape)\n",
    "display(ytrainDT.shape)\n",
    "display(XtestDT.shape)\n",
    "display(ytestDT.shape)"
   ],
   "metadata": {
    "collapsed": false,
    "ExecuteTime": {
     "end_time": "2023-11-02T13:35:41.468375739Z",
     "start_time": "2023-11-02T13:35:41.429556313Z"
    }
   },
   "id": "df5eab2ad5b7d14f"
  },
  {
   "cell_type": "code",
   "execution_count": 130,
   "outputs": [],
   "source": [
    "XvalDT, XtestDT, yvalDT, ytestDT = train_test_split(XtestDT, ytestDT, test_size=0.5, random_state=rd_seed)"
   ],
   "metadata": {
    "collapsed": false,
    "ExecuteTime": {
     "end_time": "2023-11-02T13:35:41.649105093Z",
     "start_time": "2023-11-02T13:35:41.589149373Z"
    }
   },
   "id": "b3c2ad68d75a2501"
  },
  {
   "cell_type": "code",
   "execution_count": 131,
   "outputs": [
    {
     "data": {
      "text/plain": "(200, 11)"
     },
     "metadata": {},
     "output_type": "display_data"
    },
    {
     "data": {
      "text/plain": "(200,)"
     },
     "metadata": {},
     "output_type": "display_data"
    },
    {
     "data": {
      "text/plain": "(200, 11)"
     },
     "metadata": {},
     "output_type": "display_data"
    },
    {
     "data": {
      "text/plain": "(200,)"
     },
     "metadata": {},
     "output_type": "display_data"
    }
   ],
   "source": [
    "display(XvalDT.shape)\n",
    "display(yvalDT.shape)\n",
    "display(XtestDT.shape)\n",
    "display(ytestDT.shape)"
   ],
   "metadata": {
    "collapsed": false,
    "ExecuteTime": {
     "end_time": "2023-11-02T13:35:41.827196512Z",
     "start_time": "2023-11-02T13:35:41.752698086Z"
    }
   },
   "id": "dca9b717c27724fb"
  },
  {
   "cell_type": "markdown",
   "source": [
    "* Vybereme hyperparametry, jejichž různé kombinace budeme testovat na našich datech"
   ],
   "metadata": {
    "collapsed": false
   },
   "id": "69175f06dea690b6"
  },
  {
   "cell_type": "code",
   "execution_count": 132,
   "outputs": [
    {
     "data": {
      "text/plain": "{'ccp_alpha': 0.0,\n 'class_weight': None,\n 'criterion': 'gini',\n 'max_depth': None,\n 'max_features': None,\n 'max_leaf_nodes': None,\n 'min_impurity_decrease': 0.0,\n 'min_samples_leaf': 1,\n 'min_samples_split': 2,\n 'min_weight_fraction_leaf': 0.0,\n 'random_state': None,\n 'splitter': 'best'}"
     },
     "execution_count": 132,
     "metadata": {},
     "output_type": "execute_result"
    }
   ],
   "source": [
    "clf = DecisionTreeClassifier()\n",
    "clf.get_params()"
   ],
   "metadata": {
    "collapsed": false,
    "ExecuteTime": {
     "end_time": "2023-11-02T13:35:42.049541068Z",
     "start_time": "2023-11-02T13:35:42.029914003Z"
    }
   },
   "id": "c6d685269202801e"
  },
  {
   "cell_type": "markdown",
   "source": [
    "* Vybereme 3 hyperparametry\n",
    "    * max_depth\n",
    "    * criterion \n",
    "    * min_samples_split\n",
    "* Pomocí funkce **ParameterGrid()** dostaneme všechny možné kombinace těchto hyperparametrů\n",
    "* Pak každou kombinaci vyzkoušíme na validační množině, abychom našli tu \"nejlepší\""
   ],
   "metadata": {
    "collapsed": false
   },
   "id": "f9d7cca9ac904274"
  },
  {
   "cell_type": "code",
   "execution_count": 133,
   "outputs": [
    {
     "name": "stdout",
     "output_type": "stream",
     "text": [
      "Number of combination: 1200\n",
      "\n",
      "The first 10 combinations...\n",
      "{'min_samples_split': 2, 'max_depth': 1, 'criterion': 'entropy'}\n",
      "{'min_samples_split': 7, 'max_depth': 1, 'criterion': 'entropy'}\n",
      "{'min_samples_split': 12, 'max_depth': 1, 'criterion': 'entropy'}\n",
      "{'min_samples_split': 17, 'max_depth': 1, 'criterion': 'entropy'}\n",
      "{'min_samples_split': 22, 'max_depth': 1, 'criterion': 'entropy'}\n",
      "{'min_samples_split': 27, 'max_depth': 1, 'criterion': 'entropy'}\n",
      "{'min_samples_split': 32, 'max_depth': 1, 'criterion': 'entropy'}\n",
      "{'min_samples_split': 37, 'max_depth': 1, 'criterion': 'entropy'}\n",
      "{'min_samples_split': 42, 'max_depth': 1, 'criterion': 'entropy'}\n",
      "{'min_samples_split': 47, 'max_depth': 1, 'criterion': 'entropy'}\n"
     ]
    }
   ],
   "source": [
    "param_grid = {\n",
    "    'max_depth' : range(1,31),\n",
    "    'criterion' : ['entropy', 'gini'],\n",
    "    'min_samples_split' : range(2, 100, 5)\n",
    "}\n",
    "param_comb = ParameterGrid(param_grid)\n",
    "print(\"Number of combination:\", len(param_comb))\n",
    "print(\"\\nThe first 10 combinations...\")\n",
    "for i in range(10):\n",
    "    print(param_comb[i])"
   ],
   "metadata": {
    "collapsed": false,
    "ExecuteTime": {
     "end_time": "2023-11-02T13:35:42.384127792Z",
     "start_time": "2023-11-02T13:35:42.363257508Z"
    }
   },
   "id": "9de5e7485e4980b5"
  },
  {
   "cell_type": "code",
   "execution_count": 134,
   "outputs": [],
   "source": [
    "val_acc = []\n",
    "train_acc = []\n",
    "for param in param_comb:\n",
    "    tree = DecisionTreeClassifier(max_depth=param['max_depth'], criterion=param['criterion'])\n",
    "    tree.fit(XtrainDT, ytrainDT)\n",
    "    train_acc.append(metrics.accuracy_score(ytrainDT, tree.predict(XtrainDT)))\n",
    "    val_acc.append(metrics.accuracy_score(yvalDT, tree.predict(XvalDT)))"
   ],
   "metadata": {
    "collapsed": false,
    "ExecuteTime": {
     "end_time": "2023-11-02T13:35:50.052282772Z",
     "start_time": "2023-11-02T13:35:42.535574788Z"
    }
   },
   "id": "ee45a05093dde570"
  },
  {
   "cell_type": "code",
   "execution_count": 135,
   "outputs": [
    {
     "name": "stdout",
     "output_type": "stream",
     "text": [
      "best params for Decision tree {'min_samples_split': 52, 'max_depth': 6, 'criterion': 'entropy'}\n"
     ]
    },
    {
     "data": {
      "text/plain": "<Figure size 1440x432 with 1 Axes>",
      "image/png": "[encoded data removed]"
     },
     "metadata": {
      "needs_background": "light"
     },
     "output_type": "display_data"
    }
   ],
   "source": [
    "plt.figure(figsize=(20,6))\n",
    "plt.plot(train_acc,'or-')\n",
    "plt.plot(val_acc,'ob-')\n",
    "plt.xlabel('Max Depth')\n",
    "plt.ylabel('Accuracy')\n",
    "plt.legend(['Train', 'Validation'])\n",
    "best_params = param_comb[np.argmax(val_acc)]\n",
    "print('best params for Decision tree', best_params)"
   ],
   "metadata": {
    "collapsed": false,
    "ExecuteTime": {
     "end_time": "2023-11-02T13:35:50.196649255Z",
     "start_time": "2023-11-02T13:35:50.056298260Z"
    }
   },
   "id": "c777e3b37d2f5c34"
  },
  {
   "cell_type": "markdown",
   "source": [
    "* Použijeme nejlepší kombinaci hyperparametrů, nacvičíme model a otestujeme přesnost předpovědi na trenovací a validační množině"
   ],
   "metadata": {
    "collapsed": false
   },
   "id": "d228dcf31c43e552"
  },
  {
   "cell_type": "code",
   "execution_count": 136,
   "outputs": [
    {
     "name": "stdout",
     "output_type": "stream",
     "text": [
      "accuracy score (train): 0.826667\n",
      "accuracy score (validation): 0.820000\n"
     ]
    }
   ],
   "source": [
    "tree = DecisionTreeClassifier(**best_params)\n",
    "tree.fit(XtrainDT, ytrainDT)\n",
    "\n",
    "print('accuracy score (train): {0:.6f}'.format(metrics.accuracy_score(ytrainDT, tree.predict(XtrainDT))))\n",
    "print('accuracy score (validation): {0:.6f}'.format(metrics.accuracy_score(yvalDT, tree.predict(XvalDT))))\n"
   ],
   "metadata": {
    "collapsed": false,
    "ExecuteTime": {
     "end_time": "2023-11-02T13:35:50.211755403Z",
     "start_time": "2023-11-02T13:35:50.197999733Z"
    }
   },
   "id": "c24a62a1c1ff22fe"
  },
  {
   "cell_type": "markdown",
   "source": [
    "1. Přesnost (trénovací data): 82.67%\n",
    "    * Model dosáhl vysoké přesnosti 82.67% na datech, na kterých byl trénován. To naznačuje schopnost modelu dobře se naučit a přizpůsobit se trénovacím datům.\n",
    "2. Přesnost (validační data): 82.0%\n",
    "    * Na validační sadě dosáhl model přesnosti 82.0%. Tato hodnota je blízká výsledku na trénovací sadě, což naznačuje dobrou schopnost modelu generalizovat naučené vzory na nová data."
   ],
   "metadata": {
    "collapsed": false
   },
   "id": "2538e1fdabce6411"
  },
  {
   "cell_type": "markdown",
   "source": [
    "## kNN...\n",
    "* Výhody tohoto modelu\n",
    "    * Relativně malé dimenze: V našem datasetu je relativně málo atributů, což urychlí proces predikce\n",
    "    * Jednoduchost: Jednoduchý a snadno pochopitelný, nepotřebuje složité předpoklady o datech\n",
    "    * Flexibilita v manipulaci s daty: Pracuje s různými typy dat - numerickými i kategoriálními\n",
    "    * Bez předpokladů o datech: Nepožaduje explicitní předpoklady o struktuře dat"
   ],
   "metadata": {
    "collapsed": false
   },
   "id": "d561356a79e175aa"
  },
  {
   "cell_type": "markdown",
   "source": [
    "* Zde provedeme stejné akce jako dříve\n",
    "    * Data rozdělíme do tří částí: trénovací, validační a testovací v poměru 60/20/20 %\n",
    "    * Vybereme hyperparametry\n",
    "    * Pak každou kombinaci hyperparametrů vyzkoušíme na validační množině, abychom našli tu \"nejlepší\"\n",
    "    * Použijeme nejlepší kombinaci hyperparametrů, nacvičíme model a otestujeme přesnost předpovědi na trenovací a validační množině "
   ],
   "metadata": {
    "collapsed": false
   },
   "id": "8d508808f31d470d"
  },
  {
   "cell_type": "code",
   "execution_count": 137,
   "outputs": [],
   "source": [
    "XtrainKNN, XtestKNN, ytrainKNN, ytestKNN = train_test_split(kNN_Xdata, kNN_ydata, test_size=0.4, random_state=rd_seed)\n",
    "XvalKNN, XtestKNN, yvalKNN, ytestKNN = train_test_split(XtestKNN, ytestKNN, test_size=0.5, random_state=rd_seed)"
   ],
   "metadata": {
    "collapsed": false,
    "ExecuteTime": {
     "end_time": "2023-11-02T13:35:50.212044733Z",
     "start_time": "2023-11-02T13:35:50.208015817Z"
    }
   },
   "id": "a83498ca8f194bb"
  },
  {
   "cell_type": "code",
   "execution_count": 138,
   "outputs": [
    {
     "data": {
      "text/plain": "{'algorithm': 'auto',\n 'leaf_size': 30,\n 'metric': 'minkowski',\n 'metric_params': None,\n 'n_jobs': None,\n 'n_neighbors': 5,\n 'p': 2,\n 'weights': 'uniform'}"
     },
     "execution_count": 138,
     "metadata": {},
     "output_type": "execute_result"
    }
   ],
   "source": [
    "clf = KNeighborsClassifier()\n",
    "clf.get_params()"
   ],
   "metadata": {
    "collapsed": false,
    "ExecuteTime": {
     "end_time": "2023-11-02T13:35:50.317201829Z",
     "start_time": "2023-11-02T13:35:50.213245388Z"
    }
   },
   "id": "e971a0fbcfe69b84"
  },
  {
   "cell_type": "code",
   "execution_count": 139,
   "outputs": [
    {
     "name": "stdout",
     "output_type": "stream",
     "text": [
      "Number of combinations: 108\n",
      "\n",
      "The first 10 combinations...\n",
      "{'weights': 'uniform', 'norm': 'MinMax', 'n_neighbors': 5, 'metric': 'euclidean'}\n",
      "{'weights': 'distance', 'norm': 'MinMax', 'n_neighbors': 5, 'metric': 'euclidean'}\n",
      "{'weights': 'uniform', 'norm': 'Standard', 'n_neighbors': 5, 'metric': 'euclidean'}\n",
      "{'weights': 'distance', 'norm': 'Standard', 'n_neighbors': 5, 'metric': 'euclidean'}\n",
      "{'weights': 'uniform', 'norm': 'No', 'n_neighbors': 5, 'metric': 'euclidean'}\n",
      "{'weights': 'distance', 'norm': 'No', 'n_neighbors': 5, 'metric': 'euclidean'}\n",
      "{'weights': 'uniform', 'norm': 'MinMax', 'n_neighbors': 10, 'metric': 'euclidean'}\n",
      "{'weights': 'distance', 'norm': 'MinMax', 'n_neighbors': 10, 'metric': 'euclidean'}\n",
      "{'weights': 'uniform', 'norm': 'Standard', 'n_neighbors': 10, 'metric': 'euclidean'}\n",
      "{'weights': 'distance', 'norm': 'Standard', 'n_neighbors': 10, 'metric': 'euclidean'}\n"
     ]
    }
   ],
   "source": [
    "kNN_param_grid = {\n",
    "    \"n_neighbors\" : range(5, 50, 5),\n",
    "    \"metric\" : [\"euclidean\", \"manhattan\"],\n",
    "    \"weights\" : [\"uniform\", \"distance\"],\n",
    "    \"norm\" : [\"MinMax\", \"Standard\", \"No\"]\n",
    "}\n",
    "\n",
    "kNN_param_comb = ParameterGrid(kNN_param_grid)\n",
    "print(\"Number of combinations: {}\".format(len(kNN_param_comb)))\n",
    "print(\"\\nThe first 10 combinations...\")\n",
    "for i in range(10):\n",
    "    print(kNN_param_comb[i])"
   ],
   "metadata": {
    "collapsed": false,
    "ExecuteTime": {
     "end_time": "2023-11-02T13:35:50.317521074Z",
     "start_time": "2023-11-02T13:35:50.256710521Z"
    }
   },
   "id": "7d8770115b95a9b"
  },
  {
   "cell_type": "code",
   "execution_count": 140,
   "outputs": [],
   "source": [
    "# Použijeme konkretní normalizaci\n",
    "def to_norm(norm, x_train, x_val, x_test):\n",
    "    scaler = None\n",
    "    if norm == \"MinMax\": # MinMax normalizace\n",
    "        scaler = MinMaxScaler()\n",
    "    elif norm == \"Standard\": # Standartizace\n",
    "        scaler = StandardScaler()\n",
    "\n",
    "    x_train_scaled = pd.DataFrame(scaler.fit_transform(x_train), index=x_train.index, columns=x_train.columns)\n",
    "    x_val_scaled = pd.DataFrame(scaler.transform(x_val), index=x_val.index, columns=x_val.columns)\n",
    "    x_test_scaled = pd.DataFrame(scaler.transform(x_test), index=x_test.index, columns=x_test.columns)\n",
    "    \n",
    "    return x_train_scaled, x_val_scaled, x_test_scaled\n",
    "\n",
    "\n",
    "def knn(comb, Xtrain, Xval, ytrain, yval, kNN_train_acc, kNN_val_acc):\n",
    "    kNN_model = KNeighborsClassifier(n_neighbors=comb[\"n_neighbors\"], metric=comb[\"metric\"], weights=comb[\"weights\"])\n",
    "    kNN_model.fit(Xtrain, ytrain)\n",
    "    kNN_val_acc.append(kNN_model.score(Xval, yval))\n",
    "    kNN_train_acc.append(kNN_model.score(Xtrain, ytrain))"
   ],
   "metadata": {
    "collapsed": false,
    "ExecuteTime": {
     "end_time": "2023-11-02T13:35:50.317628529Z",
     "start_time": "2023-11-02T13:35:50.256895256Z"
    }
   },
   "id": "cb4e5d110c7139d1"
  },
  {
   "cell_type": "code",
   "execution_count": 141,
   "outputs": [],
   "source": [
    "kNN_val_acc = []\n",
    "kNN_train_acc = []\n",
    "\n",
    "for comb in kNN_param_comb:\n",
    "    if comb[\"norm\"] == \"No\":\n",
    "        knn(comb, XtrainKNN, XvalKNN, ytrainKNN, yvalKNN, kNN_train_acc, kNN_val_acc)\n",
    "    else:\n",
    "        Xtrain_scaled, Xval_scaled, Xtest_scaled = to_norm(comb[\"norm\"], XtrainKNN, XvalKNN, XtestKNN)\n",
    "        knn(comb, Xtrain_scaled, Xval_scaled, ytrainKNN, yvalKNN, kNN_train_acc, kNN_val_acc)"
   ],
   "metadata": {
    "collapsed": false,
    "ExecuteTime": {
     "end_time": "2023-11-02T13:35:52.645436506Z",
     "start_time": "2023-11-02T13:35:50.256968935Z"
    }
   },
   "id": "413fc04a44c5e057"
  },
  {
   "cell_type": "code",
   "execution_count": 142,
   "outputs": [
    {
     "name": "stdout",
     "output_type": "stream",
     "text": [
      "Best params for kNN model:  {'weights': 'uniform', 'norm': 'Standard', 'n_neighbors': 15, 'metric': 'manhattan'}\n"
     ]
    },
    {
     "data": {
      "text/plain": "<Figure size 1440x432 with 1 Axes>",
      "image/png": "[encoded data removed]"
     },
     "metadata": {
      "needs_background": "light"
     },
     "output_type": "display_data"
    }
   ],
   "source": [
    "plt.figure(figsize=(20,6))\n",
    "plt.plot(kNN_train_acc,'or-')\n",
    "plt.plot(kNN_val_acc,'ob-')\n",
    "plt.xlabel('Combination of parameters')\n",
    "plt.ylabel('Accuracy')\n",
    "plt.legend(['Train', 'Validation'])\n",
    "best_kNN_params = kNN_param_comb[np.argmax(kNN_val_acc)]\n",
    "print('Best params for kNN model: ', best_kNN_params)"
   ],
   "metadata": {
    "collapsed": false,
    "ExecuteTime": {
     "end_time": "2023-11-02T13:35:52.859276788Z",
     "start_time": "2023-11-02T13:35:52.717289014Z"
    }
   },
   "id": "d6ebfe1687fc91bd"
  },
  {
   "cell_type": "code",
   "execution_count": 143,
   "outputs": [
    {
     "name": "stdout",
     "output_type": "stream",
     "text": [
      "accuracy score (train): 0.816667\n",
      "accuracy score (validation): 0.855000\n"
     ]
    }
   ],
   "source": [
    "Xtrain_scaled, Xval_scaled, Xtest_scaled = to_norm(best_kNN_params[\"norm\"], XtrainKNN, XvalKNN, XtestKNN)\n",
    "\n",
    "kNN_model = KNeighborsClassifier(n_neighbors=best_kNN_params[\"n_neighbors\"], metric=best_kNN_params[\"metric\"], weights=best_kNN_params[\"weights\"])\n",
    "kNN_model.fit(Xtrain_scaled, ytrainKNN)\n",
    "\n",
    "print('accuracy score (train): {0:.6f}'.format(kNN_model.score(Xtrain_scaled, ytrainKNN)))\n",
    "print('accuracy score (validation): {0:.6f}'.format(kNN_model.score(Xval_scaled, yvalKNN)))"
   ],
   "metadata": {
    "collapsed": false,
    "ExecuteTime": {
     "end_time": "2023-11-02T13:35:52.946923604Z",
     "start_time": "2023-11-02T13:35:52.856864334Z"
    }
   },
   "id": "5e2e6e322f5040c2"
  },
  {
   "cell_type": "markdown",
   "source": [
    "1. Přesnost (trénovací množina): 81.67%\n",
    "    * Model dosáhl přesnosti 81.67% na datech, na kterých byl trénován. To znamená, že při použití stejných dat, na kterých se učil, byl schopen správně klasifikovat kolem 81.67% případů.\n",
    "2. Přesnost (validační množina): 85.50%\n",
    "    * Na validační množině model dosáhl přesnosti 85.50%. To naznačuje, že jeho schopnost generalizace na nová data je relativně dobrá a dosáhl ještě lepších výsledků než na trénovací množině."
   ],
   "metadata": {
    "collapsed": false
   },
   "id": "aad70600ba94d824"
  },
  {
   "cell_type": "markdown",
   "source": [
    "## Výběr finálního model\n",
    "   * Výběr finálního modelu je také volbou hyperparametru, takže jej bude správně vybírat na základě výsledků přesnosti na validační množině\n",
    "   * Podle výsledků testování favoritem je kNN model (85.50% > 82.00%)"
   ],
   "metadata": {
    "collapsed": false
   },
   "id": "e0ea8b954baad2f7"
  },
  {
   "cell_type": "markdown",
   "source": [
    "* Dalším krokem bude vypočítat očekávanou přesnost předpovědí našeho modelu na testovací sadě dat, kterou model neviděl při tréninku\n",
    "* Také vypočítáme F1 skóre, nakresleme ROC křivku a určíme AUC"
   ],
   "metadata": {
    "collapsed": false
   },
   "id": "ad61d53d4d3e88ec"
  },
  {
   "cell_type": "code",
   "execution_count": 144,
   "outputs": [
    {
     "name": "stdout",
     "output_type": "stream",
     "text": [
      "accuracy score (test): 0.790000\n",
      "F1 score: 0.7341772151898734\n",
      "AUC: 0.7759740259740261\n"
     ]
    }
   ],
   "source": [
    "kNN_predictions = kNN_model.predict(Xtest_scaled)\n",
    "kNN_accuracy = metrics.accuracy_score(ytestKNN, kNN_predictions)\n",
    "print('accuracy score (test): {0:.6f}'.format(kNN_accuracy))\n",
    "\n",
    "kNN_f1 = f1_score(ytestKNN, kNN_predictions)\n",
    "kNN_auc = roc_auc_score(ytestKNN, kNN_predictions)\n",
    "print(f\"F1 score: {kNN_f1}\")\n",
    "print(f\"AUC: {kNN_auc}\")"
   ],
   "metadata": {
    "collapsed": false,
    "ExecuteTime": {
     "end_time": "2023-11-02T13:35:52.947189154Z",
     "start_time": "2023-11-02T13:35:52.891295720Z"
    }
   },
   "id": "1aa8e0e1a3d9a789"
  },
  {
   "cell_type": "code",
   "execution_count": 145,
   "outputs": [
    {
     "data": {
      "text/plain": "<Figure size 576x432 with 1 Axes>",
      "image/png": "[encoded data removed]"
     },
     "metadata": {
      "needs_background": "light"
     },
     "output_type": "display_data"
    }
   ],
   "source": [
    "fpr, tpr, thresholds = roc_curve(ytestKNN, kNN_predictions)\n",
    "\n",
    "# Vykreslení ROC křivky\n",
    "plt.figure(figsize=(8, 6))\n",
    "plt.plot(fpr, tpr, label='ROC Curve')\n",
    "plt.plot([0, 1], [0, 1], linestyle='--', label='Random Guessing')\n",
    "plt.xlabel('False Positive Rate')\n",
    "plt.ylabel('True Positive Rate')\n",
    "plt.title('Receiver Operating Characteristic (ROC) Curve')\n",
    "plt.legend()\n",
    "plt.show()"
   ],
   "metadata": {
    "collapsed": false,
    "ExecuteTime": {
     "end_time": "2023-11-02T13:35:53.042924032Z",
     "start_time": "2023-11-02T13:35:52.903258129Z"
    }
   },
   "id": "5d7f21fd053867df"
  },
  {
   "cell_type": "markdown",
   "source": [
    "1. Přesnost (testovací sada): 79.00%\n",
    "    * Model dosáhl přesnosti 79.00% na testovací sadě. Tato hodnota znamená, že správně klasifikoval přibližně 79.00% testovacích vzorků\n",
    "2. F1 skóre: 0.734\n",
    "    * F1 skóre, které bere v úvahu jak precision, tak recall, je 0.734. Tato hodnota vyjadřuje vyváženou míru mezi přesností a úplností klasifikace\n",
    "3. AUC (plocha pod ROC křivkou): 0.776\n",
    "    * Plocha pod ROC křivkou je 0.776, což indikuje výkon modelu v rámci diskriminace mezi pozitivními a negativními třídami. Čím vyšší je hodnota AUC (plochy pod křivkou), tím lepší je schopnost modelu rozlišit mezi pozitivními a negativními třídami\n",
    "\n",
    "Celkově řečeno, model K-NN dosáhl dobrých výsledků na testovací sadě, s přesností kolem 79.00%. F1 skóre a AUC také ukazují na slušný výkon modelu, což naznačuje schopnost klasifikovat a dobře rozlišit mezi třídami"
   ],
   "metadata": {
    "collapsed": false
   },
   "id": "6eaf040a6495a9a"
  },
  {
   "cell_type": "markdown",
   "source": [
    "* A konečně nacvičíme náš finální model na celém datasetu a předpovídáme osud cestujících z evaluation.csv\n",
    "* Výsledky uložíme do results.csv"
   ],
   "metadata": {
    "collapsed": false
   },
   "id": "520d52ae7465b01a"
  },
  {
   "cell_type": "code",
   "execution_count": 146,
   "outputs": [],
   "source": [
    "scale = StandardScaler()\n",
    "Xdata_scaled = pd.DataFrame(scale.fit_transform(kNN_Xdata), index=kNN_Xdata.index, columns=kNN_Xdata.columns)\n",
    "evaluation_scaled = pd.DataFrame(scale.transform(evaluation), index=evaluation.index, columns=evaluation.columns)\n",
    "\n",
    "kNN_model = KNeighborsClassifier(n_neighbors=best_kNN_params[\"n_neighbors\"], metric=best_kNN_params[\"metric\"], weights=best_kNN_params[\"weights\"])\n",
    "kNN_model.fit(Xdata_scaled, kNN_ydata)\n",
    "\n",
    "predict = kNN_model.predict(evaluation_scaled)\n",
    "predict = predict.astype(int)\n",
    "\n",
    "results = pd.DataFrame({'ID':evaluation.index, 'survived': predict})\n",
    "results.to_csv('results.csv',index=False)"
   ],
   "metadata": {
    "collapsed": false,
    "ExecuteTime": {
     "end_time": "2023-11-02T13:35:53.101853854Z",
     "start_time": "2023-11-02T13:35:53.040093071Z"
    }
   },
   "id": "fcfae539440b49b7"
  },
  {
   "cell_type": "code",
   "execution_count": 147,
   "outputs": [
    {
     "data": {
      "text/plain": "survived\n0    223\n1     86\nName: count, dtype: int64"
     },
     "execution_count": 147,
     "metadata": {},
     "output_type": "execute_result"
    }
   ],
   "source": [
    "results.survived.value_counts()"
   ],
   "metadata": {
    "collapsed": false,
    "ExecuteTime": {
     "end_time": "2023-11-02T13:35:53.118026696Z",
     "start_time": "2023-11-02T13:35:53.080649348Z"
    }
   },
   "id": "c78385bb9e49df00"
  }
 ],
 "metadata": {
  "kernelspec": {
   "display_name": "Python 3 (ipykernel)",
   "language": "python",
   "name": "python3"
  },
  "language_info": {
   "codemirror_mode": {
    "name": "ipython",
    "version": 3
   },
   "file_extension": ".py",
   "mimetype": "text/x-python",
   "name": "python",
   "nbconvert_exporter": "python",
   "pygments_lexer": "ipython3",
   "version": "3.10.12"
  }
 },
 "nbformat": 4,
 "nbformat_minor": 5
}
