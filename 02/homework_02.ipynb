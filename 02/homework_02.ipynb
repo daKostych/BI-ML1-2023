{
 "cells": [
  {
   "cell_type": "markdown",
   "id": "0cf75ab4-bd4d-4ec2-a708-74797dbfce44",
   "metadata": {},
   "source": [
    "# Úkol č. 2 - regrese\n",
    "\n",
    "* Termíny jsou uvedeny na [courses.fit.cvut.cz](https://courses.fit.cvut.cz/BI-ML1/homeworks/index.html).\n",
    "* Pokud odevzdáte úkol po prvním termínu ale před nejzazším termínem, budete penalizování -12 body, pozdější odevzdání je bez bodu.\n",
    "* V rámci tohoto úkolu se musíte vypořádat s regresní úlohou, s příznaky různých typů a s chybějícími hodnotami.\n",
    "* Před tím, než na nich postavíte predikční model, je třeba je nějakým způsobem převést do číselné reprezentace.\n",
    "    \n",
    "> **Úkoly jsou zadány tak, aby Vám daly prostor pro invenci. Vymyslet _jak přesně_ budete úkol řešit, je důležitou součástí zadání a originalita či nápaditost bude také hodnocena!**\n",
    "\n",
    "Využívejte buňky typu `Markdown` k vysvětlování Vašeho postupu. Za nepřehlednost budeme strhávat body.\n",
    "\n",
    "## Zdroj dat\n",
    "\n",
    "Budeme se zabývat predikcí délky dožití v různých zemích a letech.\n",
    "K dispozici máte trénovací data v souboru `data.csv` a data na vyhodnocení v souboru `evaluation.csv`.\n",
    "\n",
    "#### Seznam příznaků:\n",
    "\n",
    "* Year - Rok\n",
    "* Status - Status rozvinuté nebo rozvojové země\n",
    "* Life expectancy - Délka dožití v letech - **cílová proměnná, kterou budete predikovat**\n",
    "* Adult Mortality - Úmrtnost dospělých bez ohledu na pohlaví (pravděpodobnost, že osoby, které dosáhly věku 15 let, zemřou před dosažením věku 60 let (uvedeno na 1 000 osob)).\n",
    "* infant deaths - počet zemřelých kojenců na 1000 obyvatel\n",
    "* Alcohol - Alkohol, zaznamenaná spotřeba na obyvatele (15+) (v litrech čistého alkoholu)\n",
    "* percentage expenditure - Výdaje na zdravotnictví v procentech hrubého domácího produktu na obyvatele (%)\n",
    "* Hepatitis B - pokrytí očkováním proti hepatitidě B (HepB) u dětí ve věku 1 roku (%)\n",
    "* Measles - Spalničky - počet hlášených případů na 1000 obyvatel\n",
    "* BMI - průměrný index tělesné hmotnosti celé populace\n",
    "* under-five deaths - počet úmrtí dětí do pěti let na 1000 obyvatel\n",
    "* Polio - proočkovanost proti dětské obrně (Pol3) u dětí ve věku 1 roku (%)\n",
    "* Total expenditure - Výdaje vládních institucí na zdravotnictví jako procento celkových vládních výdajů (%)\n",
    "* Diphtheria - pokrytí očkováním proti záškrtu, tetanu a černému kašli (DTP3) u jednoletých dětí (%)\n",
    "* HIV/AIDS - počet úmrtí na 1 000 živě narozených dětí na HIV/AIDS (0-4 roky)\n",
    "* GDP - hrubý domácí produkt na obyvatele (v USD)\n",
    "* Population - počet obyvatel země\n",
    "* thinness 1-19 years - podíl dětí ve věku 10-19 let s indexem tělesné hmotnosti (BMI) menším než 2 směrodatné odchylky pod mediánem (%)\n",
    "* thinness 5-9 years - podíl dětí ve věku 5-9 let s indexem tělesné hmotnosti (BMI) menším než 2 směrodatné odchylky pod mediánem (%)\n",
    "* Income composition of resources - Index lidského rozvoje z hlediska příjmového složení zdrojů (index v rozmezí 0 až 1)\n",
    "* Schooling - počet let školní docházky (roky)\n",
    "\n",
    "\n",
    "## Pokyny k vypracování\n",
    "\n",
    "**Body zadání**, za jejichž (poctivé) vypracování získáte **25 bodů**: \n",
    "  * V notebooku načtěte data ze souboru `data.csv`. Vhodným způsobem si je rozdělte na podmnožiny, které Vám poslouží pro trénování (trénovací), porovnávání modelů (validační) a následnou predikci výkonnosti finálního modelu (testovací).\n",
    "    \n",
    "  * Proveďte základní předzpracování dat:\n",
    "    * Projděte si jednotlivé příznaky a transformujte je do vhodné podoby pro použití ve vybraném regresním modelu.\n",
    "    * Nějakým způsobem se vypořádejte s chybějícími hodnotami. _Pozor na metodické chyby!_\n",
    "    * Můžete využívat i vizualizace. Vše stručně ale náležitě komentujte.\n",
    "<br /><br />\n",
    "  * Vytvořte **vlastní implementaci náhodného lesa**. Použijte k tomu níže předpřipravenou kostru.\n",
    "  \n",
    "  * Na připravená data postupně aplikujte Vaši předchozí implementaci modelu náhodného lesa, dále jeden z modelů **lineární regrese** nebo **hřebenové regrese**, a alespoň jeden další model podle Vašeho uvážení, přičemž pro každý z těchto modelů přiměřeně:\n",
    "    * Okomentujte vhodnost daného modelu pro daný typ úlohy.\n",
    "    * Experimentujte s normalizací (standardizace/min-max), pokud pro daný model očekáváte její příznivý vliv.\n",
    "    * Vyberte si hlavní hyperparametry k ladění a najděte jejich nejlepší hodnoty (vzhledem k RMSE).\n",
    "    * Pro model s nejlepšími hodnotami hyperparametrů určete jeho chybu pomocí RMSE a MAE. _Pozor na metodické chyby!_\n",
    "    * Získané výsledky vždy řádně okomentujte.\n",
    "<br /><br />\n",
    "  * Ze všech zkoušených možností v předchozím kroku vyberte finální model a odhadněte, jakou chybu (RMSE) můžete očekávat na nových datech, která jste doposud neměli k dispozici. _Pozor na metodické chyby!_\n",
    "    \n",
    "  * Nakonec načtěte vyhodnocovací data ze souboru `evaluation.csv`. Pomocí finálního modelu napočítejte predikce pro tato data. Vytvořte soubor `results.csv`, ve kterém získané predikce uložíte s využitím tří sloupců: **Country**, **Year** a **Life expectancy**. Tento soubor též odevzdejte (uložte do repozitáře vedle notebooku).\n",
    "\n",
    "  * Ukázka prvních řádků souboru `results.csv`:\n",
    "  \n",
    "```\n",
    "Country,Year,Life expectancy\n",
    "Peru,2012,71.4\n",
    "Peru,2013,72.6\n",
    "...\n",
    "```\n",
    "\n",
    "\n",
    "## Poznámky k odevzdání\n",
    "\n",
    "  * Řiďte se pokyny ze stránky https://courses.fit.cvut.cz/BI-ML1/homeworks/index.html."
   ]
  },
  {
   "cell_type": "markdown",
   "source": [
    "## **Zajistíme vše potřebné...**"
   ],
   "metadata": {
    "collapsed": false
   },
   "id": "e16c92aa6570d15e"
  },
  {
   "cell_type": "code",
   "execution_count": 35,
   "outputs": [],
   "source": [
    "import random\n",
    "import pandas as pd\n",
    "import numpy as np\n",
    "\n",
    "import matplotlib.pyplot as plt\n",
    "import seaborn as sns\n",
    "%matplotlib inline\n",
    "\n",
    "rd_seed = 333 # konstanta pro random operace\n",
    "from scipy import optimize\n",
    "from sklearn.model_selection import train_test_split\n",
    "from sklearn.tree import DecisionTreeRegressor\n",
    "from sklearn.ensemble import AdaBoostRegressor\n",
    "from sklearn.model_selection import ParameterGrid\n",
    "from sklearn.linear_model import Ridge\n",
    "# from sklearn.linear_model import LinearRegression\n",
    "# from sklearn.linear_model import Lasso\n",
    "from sklearn import metrics\n",
    "\n",
    "from sklearn.preprocessing import MinMaxScaler\n",
    "from sklearn.preprocessing import StandardScaler\n",
    "\n",
    "# for ignoring all warnings\n",
    "import warnings\n",
    "warnings.filterwarnings('ignore')"
   ],
   "metadata": {
    "collapsed": false,
    "ExecuteTime": {
     "end_time": "2023-12-16T17:51:36.850102461Z",
     "start_time": "2023-12-16T17:51:36.805167705Z"
    }
   },
   "id": "ff84f7f59dd8523b"
  },
  {
   "cell_type": "code",
   "execution_count": 36,
   "outputs": [],
   "source": [
    "# Načtení dat z .csv souborů\n",
    "data = pd.read_csv(\"data.csv\")\n",
    "evaluation = pd.read_csv(\"evaluation.csv\")"
   ],
   "metadata": {
    "collapsed": false,
    "ExecuteTime": {
     "end_time": "2023-12-16T17:51:36.986420982Z",
     "start_time": "2023-12-16T17:51:36.941349782Z"
    }
   },
   "id": "eb364f3d89f04e6f"
  },
  {
   "cell_type": "code",
   "execution_count": 37,
   "outputs": [
    {
     "data": {
      "text/plain": "       Country  Year      Status  Life expectancy  Adult Mortality  \\\n0  Afghanistan  2015  Developing             65.0            263.0   \n1  Afghanistan  2014  Developing             59.9            271.0   \n2  Afghanistan  2013  Developing             59.9            268.0   \n3  Afghanistan  2012  Developing             59.5            272.0   \n4  Afghanistan  2011  Developing             59.2            275.0   \n\n   infant deaths  Alcohol  percentage expenditure  Hepatitis B  Measles  ...  \\\n0             62     0.01               71.279624         65.0     1154  ...   \n1             64     0.01               73.523582         62.0      492  ...   \n2             66     0.01               73.219243         64.0      430  ...   \n3             69     0.01               78.184215         67.0     2787  ...   \n4             71     0.01                7.097109         68.0     3013  ...   \n\n   Polio  Total expenditure  Diphtheria  HIV/AIDS         GDP  Population  \\\n0    6.0               8.16        65.0       0.1  584.259210  33736494.0   \n1   58.0               8.18        62.0       0.1  612.696514    327582.0   \n2   62.0               8.13        64.0       0.1  631.744976  31731688.0   \n3   67.0               8.52        67.0       0.1  669.959000   3696958.0   \n4   68.0               7.87        68.0       0.1   63.537231   2978599.0   \n\n   thinness  1-19 years  thinness 5-9 years  Income composition of resources  \\\n0                  17.2                17.3                            0.479   \n1                  17.5                17.5                            0.476   \n2                  17.7                17.7                            0.470   \n3                  17.9                18.0                            0.463   \n4                  18.2                18.2                            0.454   \n\n   Schooling  \n0       10.1  \n1       10.0  \n2        9.9  \n3        9.8  \n4        9.5  \n\n[5 rows x 22 columns]",
      "text/html": "<div>\n<style scoped>\n    .dataframe tbody tr th:only-of-type {\n        vertical-align: middle;\n    }\n\n    .dataframe tbody tr th {\n        vertical-align: top;\n    }\n\n    .dataframe thead th {\n        text-align: right;\n    }\n</style>\n<table border=\"1\" class=\"dataframe\">\n  <thead>\n    <tr style=\"text-align: right;\">\n      <th></th>\n      <th>Country</th>\n      <th>Year</th>\n      <th>Status</th>\n      <th>Life expectancy</th>\n      <th>Adult Mortality</th>\n      <th>infant deaths</th>\n      <th>Alcohol</th>\n      <th>percentage expenditure</th>\n      <th>Hepatitis B</th>\n      <th>Measles</th>\n      <th>...</th>\n      <th>Polio</th>\n      <th>Total expenditure</th>\n      <th>Diphtheria</th>\n      <th>HIV/AIDS</th>\n      <th>GDP</th>\n      <th>Population</th>\n      <th>thinness  1-19 years</th>\n      <th>thinness 5-9 years</th>\n      <th>Income composition of resources</th>\n      <th>Schooling</th>\n    </tr>\n  </thead>\n  <tbody>\n    <tr>\n      <th>0</th>\n      <td>Afghanistan</td>\n      <td>2015</td>\n      <td>Developing</td>\n      <td>65.0</td>\n      <td>263.0</td>\n      <td>62</td>\n      <td>0.01</td>\n      <td>71.279624</td>\n      <td>65.0</td>\n      <td>1154</td>\n      <td>...</td>\n      <td>6.0</td>\n      <td>8.16</td>\n      <td>65.0</td>\n      <td>0.1</td>\n      <td>584.259210</td>\n      <td>33736494.0</td>\n      <td>17.2</td>\n      <td>17.3</td>\n      <td>0.479</td>\n      <td>10.1</td>\n    </tr>\n    <tr>\n      <th>1</th>\n      <td>Afghanistan</td>\n      <td>2014</td>\n      <td>Developing</td>\n      <td>59.9</td>\n      <td>271.0</td>\n      <td>64</td>\n      <td>0.01</td>\n      <td>73.523582</td>\n      <td>62.0</td>\n      <td>492</td>\n      <td>...</td>\n      <td>58.0</td>\n      <td>8.18</td>\n      <td>62.0</td>\n      <td>0.1</td>\n      <td>612.696514</td>\n      <td>327582.0</td>\n      <td>17.5</td>\n      <td>17.5</td>\n      <td>0.476</td>\n      <td>10.0</td>\n    </tr>\n    <tr>\n      <th>2</th>\n      <td>Afghanistan</td>\n      <td>2013</td>\n      <td>Developing</td>\n      <td>59.9</td>\n      <td>268.0</td>\n      <td>66</td>\n      <td>0.01</td>\n      <td>73.219243</td>\n      <td>64.0</td>\n      <td>430</td>\n      <td>...</td>\n      <td>62.0</td>\n      <td>8.13</td>\n      <td>64.0</td>\n      <td>0.1</td>\n      <td>631.744976</td>\n      <td>31731688.0</td>\n      <td>17.7</td>\n      <td>17.7</td>\n      <td>0.470</td>\n      <td>9.9</td>\n    </tr>\n    <tr>\n      <th>3</th>\n      <td>Afghanistan</td>\n      <td>2012</td>\n      <td>Developing</td>\n      <td>59.5</td>\n      <td>272.0</td>\n      <td>69</td>\n      <td>0.01</td>\n      <td>78.184215</td>\n      <td>67.0</td>\n      <td>2787</td>\n      <td>...</td>\n      <td>67.0</td>\n      <td>8.52</td>\n      <td>67.0</td>\n      <td>0.1</td>\n      <td>669.959000</td>\n      <td>3696958.0</td>\n      <td>17.9</td>\n      <td>18.0</td>\n      <td>0.463</td>\n      <td>9.8</td>\n    </tr>\n    <tr>\n      <th>4</th>\n      <td>Afghanistan</td>\n      <td>2011</td>\n      <td>Developing</td>\n      <td>59.2</td>\n      <td>275.0</td>\n      <td>71</td>\n      <td>0.01</td>\n      <td>7.097109</td>\n      <td>68.0</td>\n      <td>3013</td>\n      <td>...</td>\n      <td>68.0</td>\n      <td>7.87</td>\n      <td>68.0</td>\n      <td>0.1</td>\n      <td>63.537231</td>\n      <td>2978599.0</td>\n      <td>18.2</td>\n      <td>18.2</td>\n      <td>0.454</td>\n      <td>9.5</td>\n    </tr>\n  </tbody>\n</table>\n<p>5 rows × 22 columns</p>\n</div>"
     },
     "metadata": {},
     "output_type": "display_data"
    },
    {
     "name": "stdout",
     "output_type": "stream",
     "text": [
      "<class 'pandas.core.frame.DataFrame'>\n",
      "RangeIndex: 2718 entries, 0 to 2717\n",
      "Data columns (total 22 columns):\n",
      " #   Column                           Non-Null Count  Dtype  \n",
      "---  ------                           --------------  -----  \n",
      " 0   Country                          2718 non-null   object \n",
      " 1   Year                             2718 non-null   int64  \n",
      " 2   Status                           2718 non-null   object \n",
      " 3   Life expectancy                  2718 non-null   float64\n",
      " 4   Adult Mortality                  2718 non-null   float64\n",
      " 5   infant deaths                    2718 non-null   int64  \n",
      " 6   Alcohol                          2564 non-null   float64\n",
      " 7   percentage expenditure           2718 non-null   float64\n",
      " 8   Hepatitis B                      2188 non-null   float64\n",
      " 9   Measles                          2718 non-null   int64  \n",
      " 10  BMI                              2692 non-null   float64\n",
      " 11  under-five deaths                2718 non-null   int64  \n",
      " 12  Polio                            2700 non-null   float64\n",
      " 13  Total expenditure                2529 non-null   float64\n",
      " 14  Diphtheria                       2700 non-null   float64\n",
      " 15  HIV/AIDS                         2718 non-null   float64\n",
      " 16  GDP                              2317 non-null   float64\n",
      " 17  Population                       2116 non-null   float64\n",
      " 18  thinness  1-19 years             2692 non-null   float64\n",
      " 19  thinness 5-9 years               2692 non-null   float64\n",
      " 20  Income composition of resources  2576 non-null   float64\n",
      " 21  Schooling                        2576 non-null   float64\n",
      "dtypes: float64(16), int64(4), object(2)\n",
      "memory usage: 467.3+ KB\n"
     ]
    },
    {
     "data": {
      "text/plain": "None"
     },
     "metadata": {},
     "output_type": "display_data"
    },
    {
     "name": "stdout",
     "output_type": "stream",
     "text": [
      "\n",
      "Number of missing items in each column...\n"
     ]
    },
    {
     "data": {
      "text/plain": "Country                              0\nYear                                 0\nStatus                               0\nLife expectancy                      0\nAdult Mortality                      0\ninfant deaths                        0\nAlcohol                            154\npercentage expenditure               0\nHepatitis B                        530\nMeasles                              0\nBMI                                 26\nunder-five deaths                    0\nPolio                               18\nTotal expenditure                  189\nDiphtheria                          18\nHIV/AIDS                             0\nGDP                                401\nPopulation                         602\nthinness  1-19 years                26\nthinness 5-9 years                  26\nIncome composition of resources    142\nSchooling                          142\ndtype: int64"
     },
     "metadata": {},
     "output_type": "display_data"
    },
    {
     "name": "stdout",
     "output_type": "stream",
     "text": [
      "\n",
      "Number of unique values...\n"
     ]
    },
    {
     "data": {
      "text/plain": "Country                             183\nYear                                 16\nStatus                                2\nLife expectancy                     359\nAdult Mortality                     423\ninfant deaths                       195\nAlcohol                            1055\npercentage expenditure             2185\nHepatitis B                          87\nMeasles                             909\nBMI                                 600\nunder-five deaths                   239\nPolio                                73\nTotal expenditure                   792\nDiphtheria                           81\nHIV/AIDS                            197\nGDP                                2317\nPopulation                         2110\nthinness  1-19 years                194\nthinness 5-9 years                  200\nIncome composition of resources     613\nSchooling                           173\ndtype: int64"
     },
     "metadata": {},
     "output_type": "display_data"
    }
   ],
   "source": [
    "# Základní přehled\n",
    "display(data.head())\n",
    "display(data.info())\n",
    "print(\"\\nNumber of missing items in each column...\")\n",
    "display(data.isnull().sum(axis=0))\n",
    "print(\"\\nNumber of unique values...\")\n",
    "display(data.nunique())"
   ],
   "metadata": {
    "collapsed": false,
    "ExecuteTime": {
     "end_time": "2023-12-16T17:51:37.172338654Z",
     "start_time": "2023-12-16T17:51:37.139722942Z"
    }
   },
   "id": "f9de3030f730dcea"
  },
  {
   "cell_type": "markdown",
   "source": [
    "## Příprava dat\n",
    "\n",
    "* Dále budeme **současně** upravovat dva datasety, abychom na ně mohli použít naše modely"
   ],
   "metadata": {
    "collapsed": false
   },
   "id": "e890ebc47d78c4e0"
  },
  {
   "cell_type": "code",
   "execution_count": 38,
   "outputs": [
    {
     "name": "stdout",
     "output_type": "stream",
     "text": [
      "Object columns: Index(['Country', 'Status'], dtype='object')\n"
     ]
    }
   ],
   "source": [
    "# Vybíráme příznaky typu \"object\"\n",
    "object_columns = data.select_dtypes(include=[\"object\"])\n",
    "print(f'Object columns: {object_columns.columns}')"
   ],
   "metadata": {
    "collapsed": false,
    "ExecuteTime": {
     "end_time": "2023-12-16T17:51:37.401765072Z",
     "start_time": "2023-12-16T17:51:37.392574647Z"
    }
   },
   "id": "e34dff016432c20f"
  },
  {
   "cell_type": "markdown",
   "source": [
    "* Příznak \"Status\" je **ordinílní**, dá se ho seřadit podle vývoje země"
   ],
   "metadata": {
    "collapsed": false
   },
   "id": "c935594eded0bad"
  },
  {
   "cell_type": "code",
   "execution_count": 39,
   "outputs": [
    {
     "name": "stdout",
     "output_type": "stream",
     "text": [
      "['Developing' 'Developed']\n"
     ]
    }
   ],
   "source": [
    "status_unique = data.Status.unique()\n",
    "print(status_unique)"
   ],
   "metadata": {
    "collapsed": false,
    "ExecuteTime": {
     "end_time": "2023-12-16T17:51:37.787135982Z",
     "start_time": "2023-12-16T17:51:37.759117332Z"
    }
   },
   "id": "fefd63b72e6d5564"
  },
  {
   "cell_type": "markdown",
   "source": [
    "* Konverze příznaku \"Status\" na categoricky typ"
   ],
   "metadata": {
    "collapsed": false
   },
   "id": "6f4c3616047fec69"
  },
  {
   "cell_type": "code",
   "execution_count": 40,
   "outputs": [
    {
     "data": {
      "text/plain": "['Developing', 'Developed']\nCategories (2, object): ['Developing' < 'Developed']"
     },
     "execution_count": 40,
     "metadata": {},
     "output_type": "execute_result"
    }
   ],
   "source": [
    "status_category = pd.api.types.CategoricalDtype(categories=status_unique, ordered=True)\n",
    "\n",
    "data.Status = data.Status.astype(status_category)\n",
    "evaluation.Status = evaluation.Status.astype(status_category)\n",
    "data.Status.unique()"
   ],
   "metadata": {
    "collapsed": false,
    "ExecuteTime": {
     "end_time": "2023-12-16T17:51:38.045270741Z",
     "start_time": "2023-12-16T17:51:38.015532969Z"
    }
   },
   "id": "cbe3ebe7bef7daca"
  },
  {
   "cell_type": "markdown",
   "source": [
    "* Převedeme příznak \"Status\" do číselné podoby"
   ],
   "metadata": {
    "collapsed": false
   },
   "id": "b7abee2910c51274"
  },
  {
   "cell_type": "code",
   "execution_count": 41,
   "outputs": [
    {
     "data": {
      "text/plain": "[0, 1]\nCategories (2, int64): [0 < 1]"
     },
     "execution_count": 41,
     "metadata": {},
     "output_type": "execute_result"
    }
   ],
   "source": [
    "data[\"Status\"] = data[\"Status\"].map({\"Developing\" : 0, \"Developed\" : 1})\n",
    "evaluation[\"Status\"] = evaluation[\"Status\"].map({\"Developing\" : 0, \"Developed\" : 1})\n",
    "\n",
    "data[\"Status\"].unique()"
   ],
   "metadata": {
    "collapsed": false,
    "ExecuteTime": {
     "end_time": "2023-12-16T17:51:38.365900263Z",
     "start_time": "2023-12-16T17:51:38.344514868Z"
    }
   },
   "id": "31b0edd85125b0f8"
  },
  {
   "cell_type": "markdown",
   "source": [
    "* Předpokládáme, ze kombinace příznaků \"Country\" a \"Year\" je unikálním identifikátorem v datasetu `data`\n",
    "* Musíme to ale ovšřit "
   ],
   "metadata": {
    "collapsed": false
   },
   "id": "e9adb10b54a873d9"
  },
  {
   "cell_type": "code",
   "execution_count": 42,
   "outputs": [
    {
     "name": "stdout",
     "output_type": "stream",
     "text": [
      "Kombinace příznaků \"Country\" a \"Year\" je unikálním identifikátorem v datasetu \"data\"\n"
     ]
    }
   ],
   "source": [
    "attribute1 = 'Country'\n",
    "attribute2 = 'Year'\n",
    "\n",
    "# Testujeme unikátnost každé dvojice příznaků \"Country\" a \"Year\"\n",
    "is_unique_combination = data.groupby([attribute1, attribute2]).size().max() == 1\n",
    "\n",
    "if(is_unique_combination):\n",
    "    print(f'Kombinace příznaků \"{attribute1}\" a \"{attribute2}\" je unikálním identifikátorem v datasetu \"data\"')\n",
    "else:\n",
    "    print(f'Kombinace příznaků \"{attribute1}\" a \"{attribute2}\" není unikálním identifikátorem v datasetu \"data\"')"
   ],
   "metadata": {
    "collapsed": false,
    "ExecuteTime": {
     "end_time": "2023-12-16T17:51:38.678815461Z",
     "start_time": "2023-12-16T17:51:38.665408375Z"
    }
   },
   "id": "bf92f60683106c5d"
  },
  {
   "cell_type": "markdown",
   "source": [
    "* Je zřejmé, že naše předpověď nebude záviset ani na hodnotě atributu \"Country\", ani na hodnotě atributu \"Year\"\n",
    "* Tyto atributy tedy můžeme odstranit z datasetu \"data\"\n",
    "* V případě datasetu \"evaluation\" uložíme do jednotlivých proměnných hodnoty atributů \"Country\" a \"Year\" , abychom ve finálním souboru s předpovědí ke konkrétní hodnotě mohli přiřadit konkrétní zemi a rok"
   ],
   "metadata": {
    "collapsed": false
   },
   "id": "3f64b5d02efba704"
  },
  {
   "cell_type": "code",
   "execution_count": 43,
   "outputs": [],
   "source": [
    "evaluation_country = evaluation[\"Country\"]\n",
    "evaluation_year = evaluation[\"Year\"]\n",
    "\n",
    "data = data.drop(columns=[\"Country\", \"Year\"])\n",
    "evaluation = evaluation.drop(columns=[\"Country\", \"Year\"])"
   ],
   "metadata": {
    "collapsed": false,
    "ExecuteTime": {
     "end_time": "2023-12-16T17:51:38.981397348Z",
     "start_time": "2023-12-16T17:51:38.974173736Z"
    }
   },
   "id": "e810d79f40cfd7b3"
  },
  {
   "cell_type": "code",
   "execution_count": 44,
   "outputs": [
    {
     "name": "stdout",
     "output_type": "stream",
     "text": [
      "<class 'pandas.core.frame.DataFrame'>\n",
      "RangeIndex: 2718 entries, 0 to 2717\n",
      "Data columns (total 20 columns):\n",
      " #   Column                           Non-Null Count  Dtype   \n",
      "---  ------                           --------------  -----   \n",
      " 0   Status                           2718 non-null   category\n",
      " 1   Life expectancy                  2718 non-null   float64 \n",
      " 2   Adult Mortality                  2718 non-null   float64 \n",
      " 3   infant deaths                    2718 non-null   int64   \n",
      " 4   Alcohol                          2564 non-null   float64 \n",
      " 5   percentage expenditure           2718 non-null   float64 \n",
      " 6   Hepatitis B                      2188 non-null   float64 \n",
      " 7   Measles                          2718 non-null   int64   \n",
      " 8   BMI                              2692 non-null   float64 \n",
      " 9   under-five deaths                2718 non-null   int64   \n",
      " 10  Polio                            2700 non-null   float64 \n",
      " 11  Total expenditure                2529 non-null   float64 \n",
      " 12  Diphtheria                       2700 non-null   float64 \n",
      " 13  HIV/AIDS                         2718 non-null   float64 \n",
      " 14  GDP                              2317 non-null   float64 \n",
      " 15  Population                       2116 non-null   float64 \n",
      " 16  thinness  1-19 years             2692 non-null   float64 \n",
      " 17  thinness 5-9 years               2692 non-null   float64 \n",
      " 18  Income composition of resources  2576 non-null   float64 \n",
      " 19  Schooling                        2576 non-null   float64 \n",
      "dtypes: category(1), float64(16), int64(3)\n",
      "memory usage: 406.4 KB\n"
     ]
    }
   ],
   "source": [
    "data.info()"
   ],
   "metadata": {
    "collapsed": false,
    "ExecuteTime": {
     "end_time": "2023-12-16T17:51:39.232712961Z",
     "start_time": "2023-12-16T17:51:39.196863959Z"
    }
   },
   "id": "c5f5b6e36de2c05a"
  },
  {
   "cell_type": "markdown",
   "source": [
    "* Vidíme, že některé příznaky obsahují chybějící hodnoty \n",
    "* S těmi se vypořádáme tím, že je nahradíme průměrem daného příznaku"
   ],
   "metadata": {
    "collapsed": false
   },
   "id": "dfaa357b22811da3"
  },
  {
   "cell_type": "code",
   "execution_count": 45,
   "outputs": [
    {
     "data": {
      "text/plain": "Status                               0\nLife expectancy                      0\nAdult Mortality                      0\ninfant deaths                        0\nAlcohol                            154\npercentage expenditure               0\nHepatitis B                        530\nMeasles                              0\nBMI                                 26\nunder-five deaths                    0\nPolio                               18\nTotal expenditure                  189\nDiphtheria                          18\nHIV/AIDS                             0\nGDP                                401\nPopulation                         602\nthinness  1-19 years                26\nthinness 5-9 years                  26\nIncome composition of resources    142\nSchooling                          142\ndtype: int64"
     },
     "execution_count": 45,
     "metadata": {},
     "output_type": "execute_result"
    }
   ],
   "source": [
    "data.isnull().sum(axis=0)"
   ],
   "metadata": {
    "collapsed": false,
    "ExecuteTime": {
     "end_time": "2023-12-16T17:51:39.476798017Z",
     "start_time": "2023-12-16T17:51:39.469786693Z"
    }
   },
   "id": "f6c36628e0e1070d"
  },
  {
   "cell_type": "code",
   "execution_count": 46,
   "outputs": [],
   "source": [
    "# Zaplnění chybějících hodnot průměrem\n",
    "columns_with_missing_values = data.columns[data.isnull().any()].tolist()\n",
    "for column in columns_with_missing_values:\n",
    "    data[column] = data[column].fillna(data[column].mean())\n",
    "\n",
    "columns_with_missing_values = evaluation.columns[evaluation.isnull().any()].tolist()\n",
    "for column in columns_with_missing_values:\n",
    "    evaluation[column] = evaluation[column].fillna(evaluation[column].mean())"
   ],
   "metadata": {
    "collapsed": false,
    "ExecuteTime": {
     "end_time": "2023-12-16T17:51:39.729624747Z",
     "start_time": "2023-12-16T17:51:39.656863256Z"
    }
   },
   "id": "d09300386bddb458"
  },
  {
   "cell_type": "code",
   "execution_count": 47,
   "outputs": [
    {
     "data": {
      "text/plain": "Status                             0\nLife expectancy                    0\nAdult Mortality                    0\ninfant deaths                      0\nAlcohol                            0\npercentage expenditure             0\nHepatitis B                        0\nMeasles                            0\nBMI                                0\nunder-five deaths                  0\nPolio                              0\nTotal expenditure                  0\nDiphtheria                         0\nHIV/AIDS                           0\nGDP                                0\nPopulation                         0\nthinness  1-19 years               0\nthinness 5-9 years                 0\nIncome composition of resources    0\nSchooling                          0\ndtype: int64"
     },
     "execution_count": 47,
     "metadata": {},
     "output_type": "execute_result"
    }
   ],
   "source": [
    "data.isnull().sum(axis=0)"
   ],
   "metadata": {
    "collapsed": false,
    "ExecuteTime": {
     "end_time": "2023-12-16T17:51:39.866721549Z",
     "start_time": "2023-12-16T17:51:39.829091769Z"
    }
   },
   "id": "695b76d8cdb9fa90"
  },
  {
   "cell_type": "markdown",
   "source": [
    "\n",
    "Oddělíme vysvětlovanou proměnnou a rozdělíme náš dataset na trénovací, validační a testovací množinu."
   ],
   "metadata": {
    "collapsed": false
   },
   "id": "5f028ee8b0689567"
  },
  {
   "cell_type": "code",
   "execution_count": 48,
   "outputs": [],
   "source": [
    "Xdata = data.drop(columns=\"Life expectancy\")\n",
    "ydata = data[\"Life expectancy\"]"
   ],
   "metadata": {
    "collapsed": false,
    "ExecuteTime": {
     "end_time": "2023-12-16T17:51:40.119845209Z",
     "start_time": "2023-12-16T17:51:40.110756778Z"
    }
   },
   "id": "7dff8fec8c6859ff"
  },
  {
   "cell_type": "code",
   "execution_count": 49,
   "outputs": [],
   "source": [
    "Xtrain, Xtest, ytrain, ytest = train_test_split(Xdata, ydata, test_size=0.4, random_state=rd_seed)\n",
    "\n",
    "# ridge_Xtrain, ridge_Xtest, ridge_ytrain, ridge_ytest = train_test_split(Xdata.drop(columns=[\"infant deaths\", \"GDP\", \"thinness 5-9 years\", \"Population\"]), ydata, test_size=0.4, random_state=rd_seed)"
   ],
   "metadata": {
    "collapsed": false,
    "ExecuteTime": {
     "end_time": "2023-12-16T17:51:40.273662696Z",
     "start_time": "2023-12-16T17:51:40.263820625Z"
    }
   },
   "id": "e593089e4fa1e43a"
  },
  {
   "cell_type": "code",
   "execution_count": 50,
   "outputs": [
    {
     "data": {
      "text/plain": "(1630, 19)"
     },
     "metadata": {},
     "output_type": "display_data"
    },
    {
     "data": {
      "text/plain": "(1630,)"
     },
     "metadata": {},
     "output_type": "display_data"
    },
    {
     "data": {
      "text/plain": "(1088, 19)"
     },
     "metadata": {},
     "output_type": "display_data"
    },
    {
     "data": {
      "text/plain": "(1088,)"
     },
     "metadata": {},
     "output_type": "display_data"
    }
   ],
   "source": [
    "display(Xtrain.shape)\n",
    "display(ytrain.shape)\n",
    "display(Xtest.shape)\n",
    "display(ytest.shape)"
   ],
   "metadata": {
    "collapsed": false,
    "ExecuteTime": {
     "end_time": "2023-12-16T17:51:40.552932837Z",
     "start_time": "2023-12-16T17:51:40.515182835Z"
    }
   },
   "id": "c4cdf1827c4f8bf3"
  },
  {
   "cell_type": "code",
   "execution_count": 51,
   "outputs": [],
   "source": [
    "Xval, Xtest, yval, ytest = train_test_split(Xtest, ytest, test_size=0.5, random_state=rd_seed)\n",
    "\n",
    "# ridge_Xval, ridge_Xtest, ridge_yval, ridge_ytest = train_test_split(ridge_Xtest, ridge_ytest, test_size=0.5, random_state=rd_seed)"
   ],
   "metadata": {
    "collapsed": false,
    "ExecuteTime": {
     "end_time": "2023-12-16T17:51:40.657047516Z",
     "start_time": "2023-12-16T17:51:40.644520414Z"
    }
   },
   "id": "67441bf788f37b5c"
  },
  {
   "cell_type": "code",
   "execution_count": 52,
   "outputs": [
    {
     "data": {
      "text/plain": "(544, 19)"
     },
     "metadata": {},
     "output_type": "display_data"
    },
    {
     "data": {
      "text/plain": "(544,)"
     },
     "metadata": {},
     "output_type": "display_data"
    },
    {
     "data": {
      "text/plain": "(544, 19)"
     },
     "metadata": {},
     "output_type": "display_data"
    },
    {
     "data": {
      "text/plain": "(544,)"
     },
     "metadata": {},
     "output_type": "display_data"
    }
   ],
   "source": [
    "display(Xval.shape)\n",
    "display(yval.shape)\n",
    "display(Xtest.shape)\n",
    "display(ytest.shape)"
   ],
   "metadata": {
    "collapsed": false,
    "ExecuteTime": {
     "end_time": "2023-12-16T17:51:40.835959244Z",
     "start_time": "2023-12-16T17:51:40.787567643Z"
    }
   },
   "id": "c2f10eac7e84c81d"
  },
  {
   "cell_type": "markdown",
   "source": [
    "Protože budeme zkoušet normalizaci dat u každého modelu, můžeme tedy připravit normalizovaná data."
   ],
   "metadata": {
    "collapsed": false
   },
   "id": "30c2704a29c3313c"
  },
  {
   "cell_type": "code",
   "execution_count": 53,
   "outputs": [],
   "source": [
    "# Standardizace\n",
    "scaler = StandardScaler().fit(Xtrain)\n",
    "\n",
    "Xtrain_standard_scaled = scaler.transform(Xtrain)\n",
    "Xval_standard_scaled = scaler.transform(Xval)\n",
    "Xtest_standard_scaled = scaler.transform(Xtest)\n",
    "\n",
    "evaluation_standard_scaled = scaler.transform(evaluation)"
   ],
   "metadata": {
    "collapsed": false,
    "ExecuteTime": {
     "end_time": "2023-12-16T17:51:41.104999316Z",
     "start_time": "2023-12-16T17:51:41.079463929Z"
    }
   },
   "id": "4aad9bdbb6e0c795"
  },
  {
   "cell_type": "code",
   "execution_count": 54,
   "outputs": [],
   "source": [
    "# MinMax normalizace\n",
    "scaler = MinMaxScaler().fit(Xtrain)\n",
    "Xtrain_MinMax_scaled = scaler.transform(Xtrain)\n",
    "Xval_MinMax_scaled = scaler.transform(Xval)\n",
    "Xtest_MinMax_scaled = scaler.transform(Xtest)\n",
    "\n",
    "evaluation_MinMax_scaled = scaler.transform(evaluation)"
   ],
   "metadata": {
    "collapsed": false,
    "ExecuteTime": {
     "end_time": "2023-12-16T17:51:41.284608035Z",
     "start_time": "2023-12-16T17:51:41.258193427Z"
    }
   },
   "id": "501e12a720405f44"
  },
  {
   "cell_type": "code",
   "execution_count": 55,
   "outputs": [],
   "source": [
    "# Pro porovnání\n",
    "RMSE_dict = {}"
   ],
   "metadata": {
    "collapsed": false,
    "ExecuteTime": {
     "end_time": "2023-12-16T17:51:41.452238547Z",
     "start_time": "2023-12-16T17:51:41.430372543Z"
    }
   },
   "id": "d20eeac2b74d323e"
  },
  {
   "cell_type": "markdown",
   "source": [
    "## Random Forest\n",
    "* Výhody tohoto modelu\n",
    "    * Ochrana před přetrénováním: Nahodný les je obecně odolný vůči přetrénování díky principu agregace\n",
    "    * Efektivnost: Nahodný les může být efektivní pro velké množství dat s mnoha příznaky\n",
    "    * Schopnost zacházet s heterogenními daty: Nahodný les se často osvědčuje v situacích, kdy data obsahují smíšené typy proměnných (kategorické i numerické) a různé škály\""
   ],
   "metadata": {
    "collapsed": false
   },
   "id": "29c9addb214df629"
  },
  {
   "cell_type": "markdown",
   "source": [
    "Implementujeme vlastní třídu `CustomRandomForest`"
   ],
   "metadata": {
    "collapsed": false
   },
   "id": "7c64bcc97e815882"
  },
  {
   "cell_type": "code",
   "execution_count": 56,
   "id": "280dc5d5-087b-4060-bd0a-c950c91f0533",
   "metadata": {
    "ExecuteTime": {
     "end_time": "2023-12-16T17:51:41.944398401Z",
     "start_time": "2023-12-16T17:51:41.925715940Z"
    }
   },
   "outputs": [],
   "source": [
    "# Předpřipravená kostra modelu náhodného lesa\n",
    "class CustomRandomForest:\n",
    "    \"\"\"\n",
    "    Třída Vašeho modelu\n",
    "    Bude se jednat o model náhodného lesa, kde podmodely tvoří rozhodovací stromy pro regresi.\n",
    "    Pro podmodely můžete použít implementaci DecisionTreeRegressor ze sklearn.\n",
    "    \"\"\"\n",
    "    def __init__(self, n_estimators, max_samples, max_depth, **kwargs):\n",
    "        \"\"\"\n",
    "        Konstruktor modelu\n",
    "        Základní hyperparametery:\n",
    "            n_estimators - počet podmodelů - rozhodovacích stromů.\n",
    "            max_samples - absolutní počet bodů (tj. číslo mezi 1 a velikostí trénovací množiny), \n",
    "                          které budou pro každý podmodel rozhodovacího stromu náhodně vybrány z trénovací množiny (bootstrap) a použity k jeho trénování.\n",
    "            max_depth - maximální hloubka každého z podmodelů rozhodovacího stromu.\n",
    "            kwargs - (volitelně) případné další hyperparametry, které pošlete do podmodelů rozhodovacího stromu\n",
    "        \"\"\"\n",
    "        self.n_estimators = n_estimators\n",
    "        self.max_samples = max_samples\n",
    "        self.max_depth = max_depth\n",
    "        self.kwargs = kwargs\n",
    "        self.models = []\n",
    "        \n",
    "    def fit(self, X, y):\n",
    "        \"\"\"\n",
    "        Natrénování modelu. Trénovací data jsou v argumentech X a y.\n",
    "        Pro trénování podmodelů používejte bootstraping a velikost samplovaného vzorku vezměte z hyperparametru max_samples_fraction\n",
    "        \"\"\"\n",
    "        for _ in range(self.n_estimators):\n",
    "            # Výběr náhodného vzorku pro trénování\n",
    "            r_seed = random.randint(self.n_estimators, (self.n_estimators * 10) + 10)\n",
    "            X_sampled = X.sample(n=self.max_samples, random_state=r_seed)\n",
    "            y_sampled = y.sample(n=self.max_samples, random_state=r_seed)\n",
    "\n",
    "            # Vytvoření a trénování rozhodovacího stromu\n",
    "            model = DecisionTreeRegressor(max_depth=self.max_depth, **self.kwargs)\n",
    "            model.fit(X_sampled, y_sampled)\n",
    "\n",
    "            # Přidání natrénovaného modelu do seznamu\n",
    "            self.models.append(model)\n",
    "        \n",
    "    def predict(self, X):\n",
    "        \"\"\"\n",
    "        Predikce y v zadaných bodech X\n",
    "        \"\"\"\n",
    "        ypredicted = np.zeros((X.shape[0], self.n_estimators))\n",
    "        \n",
    "        # Predikce každým pod-modelem\n",
    "        for i, model in enumerate(self.models):\n",
    "            ypredicted[:, i] = model.predict(X)\n",
    "\n",
    "        # Průměrná predikce ze všech pod-modelů\n",
    "        y_mean = np.mean(ypredicted, axis=1)\n",
    "\n",
    "        return y_mean\n"
   ]
  },
  {
   "cell_type": "markdown",
   "source": [
    "* Budeme ladit více hyperparametrů\n",
    "* Pomocí funkce **ParameterGrid()** dostaneme všechny možné kombinace těchto hyperparametrů\n",
    "* Pak každou kombinaci vyzkoušíme na validační množině, abychom našli tu \"nejlepší\"\n",
    "* Použijeme nejlepší kombinaci hyperparametrů, nacvičíme model a najdeme RMSE na validační množině"
   ],
   "metadata": {
    "collapsed": false
   },
   "id": "9d6d954ec4ae1818"
  },
  {
   "cell_type": "code",
   "execution_count": 57,
   "id": "8216231d-137d-4a04-b8f8-5e088e6ac6bb",
   "metadata": {
    "ExecuteTime": {
     "end_time": "2023-12-16T17:55:05.287066104Z",
     "start_time": "2023-12-16T17:51:42.228551733Z"
    }
   },
   "outputs": [
    {
     "name": "stdout",
     "output_type": "stream",
     "text": [
      "We found the best params {'normalization': None, 'n_estimators': 35, 'max_samples': 1300, 'max_features': None, 'max_depth': 7} with validation RMSE 2.209714.\n"
     ]
    },
    {
     "data": {
      "text/plain": "<matplotlib.legend.Legend at 0x7fa57c4db220>"
     },
     "execution_count": 57,
     "metadata": {},
     "output_type": "execute_result"
    },
    {
     "data": {
      "text/plain": "<Figure size 1440x432 with 1 Axes>",
      "image/png": "[encoded data removed]"
     },
     "metadata": {
      "needs_background": "light"
     },
     "output_type": "display_data"
    }
   ],
   "source": [
    "# Hyperparametry\n",
    "param_grid = {\n",
    "    'n_estimators' : range(5, 40, 5),\n",
    "    'max_samples' : range(100, 1600, 200),\n",
    "    'max_depth' : range(1, 8),\n",
    "    'max_features' : [None, \"sqrt\"],\n",
    "    'normalization' : [None, 'Standard', 'MinMax']\n",
    "}\n",
    "\n",
    "# Všechny možné kombinace\n",
    "param_comb = ParameterGrid(param_grid)\n",
    "\n",
    "# Ladění\n",
    "val_metric = []\n",
    "for params in param_comb:\n",
    "    rf = CustomRandomForest(n_estimators=params['n_estimators'],\n",
    "                            max_samples=params['max_samples'],\n",
    "                            max_depth=params['max_depth'],\n",
    "                            max_features=params['max_features'])\n",
    "    if params['normalization'] is None:\n",
    "        rf.fit(Xtrain, ytrain)\n",
    "        prediction = rf.predict(Xval)\n",
    "    elif params['normalization'] == 'Standard':\n",
    "        scaler = StandardScaler()                                                                                # Musíme ponechat normalizovaná data\n",
    "        Xtrain_scaled = pd.DataFrame(scaler.fit_transform(Xtrain), index=Xtrain.index, columns=Xtrain.columns)   # jako pd.DataFrame pro umožnění použití\n",
    "        Xval_scaled = pd.DataFrame(scaler.transform(Xval), index=Xval.index, columns=Xval.columns)               # metody sample()\n",
    "        rf.fit(Xtrain_scaled, ytrain)\n",
    "        prediction = rf.predict(Xval_scaled)\n",
    "    else:\n",
    "        scaler = MinMaxScaler()                                                                                  # Musíme ponechat normalizovaná data\n",
    "        Xtrain_scaled = pd.DataFrame(scaler.fit_transform(Xtrain), index=Xtrain.index, columns=Xtrain.columns)   # jako pd.DataFrame pro umožnění použití\n",
    "        Xval_scaled = pd.DataFrame(scaler.transform(Xval), index=Xval.index, columns=Xval.columns)               # metody sample()\n",
    "        rf.fit(Xtrain_scaled, ytrain)\n",
    "        prediction = rf.predict(Xval_scaled)\n",
    "    \n",
    "    val_metric.append(metrics.mean_squared_error(yval, prediction, squared=False))\n",
    "\n",
    "# Vizualizace výsledků\n",
    "best_params = param_comb[np.argmin(val_metric)]\n",
    "RMSE_dict['Random Forest RMSE'] = min(val_metric)\n",
    "print(f\"We found the best params {best_params} with validation RMSE {min(val_metric):.6f}.\")\n",
    "plt.figure(figsize=(20,6))\n",
    "plt.plot(val_metric,'ob-')\n",
    "plt.xlabel('Combination of parameters')\n",
    "plt.ylabel('RMSE')\n",
    "plt.legend(['Validation'])"
   ]
  },
  {
   "cell_type": "markdown",
   "source": [
    "* RMSE (valodační data): 2.210 \n",
    "    * Vzhledem k povaze cílové proměnné (délky dožití) je výsledek 2.210 relativně nízký, což je pozitivní. To může znamenat, že model dobře zachycuje vztahy mezi příznaky a délkou dožití a má schopnost přesně predikovat tuto hodnotu."
   ],
   "metadata": {
    "collapsed": false
   },
   "id": "25fb6b6798c40dfb"
  },
  {
   "cell_type": "markdown",
   "source": [
    "## Ridge regression\n",
    "* Obecné výhody tohoto modelu\n",
    "    * Multikolinearita: Ridge regrese je užitečná, když jsou příznaky ve vašich datech vysokým způsobem korelované (multikolinearita)\n",
    "    * Ochrana před přetrénováním: Ridge regrese přidává regularizační člen do objektivní funkce, což pomáhá omezit přetrénování modelu\n",
    "    * Interpretovatelnost: Lineární modely jsou obecně snáze interpretovatelné než složitější modely, jako je Random Forest"
   ],
   "metadata": {
    "collapsed": false
   },
   "id": "2ae993a40cc3830"
  },
  {
   "cell_type": "markdown",
   "source": [
    "Ověříme, zda náš dataset obsahuje silně korelované příznaky. Použijeme pro to korelační matici."
   ],
   "metadata": {
    "collapsed": false
   },
   "id": "21e5940a4d2cf017"
  },
  {
   "cell_type": "code",
   "execution_count": 58,
   "outputs": [
    {
     "data": {
      "text/plain": "<Figure size 864x720 with 2 Axes>",
      "image/png": "[encoded data removed]"
     },
     "metadata": {
      "needs_background": "light"
     },
     "output_type": "display_data"
    }
   ],
   "source": [
    "plt.figure(figsize=(12, 10))\n",
    "correlation_matrix = data.corr()\n",
    "\n",
    "# Vytvoření teplomapu korelační matice\n",
    "sns.heatmap(correlation_matrix, annot=False, cmap='coolwarm', fmt=\".2f\", linewidths=.5)\n",
    "\n",
    "plt.show()"
   ],
   "metadata": {
    "collapsed": false,
    "ExecuteTime": {
     "end_time": "2023-12-16T17:55:05.661464337Z",
     "start_time": "2023-12-16T17:55:05.290256435Z"
    }
   },
   "id": "1605440a070eb48a"
  },
  {
   "cell_type": "code",
   "execution_count": 59,
   "outputs": [
    {
     "name": "stdout",
     "output_type": "stream",
     "text": [
      "Dvojice s korelací > 0.8:\n",
      "\n",
      "('infant deaths', 'under-five deaths')\n",
      "('percentage expenditure', 'GDP')\n",
      "('thinness  1-19 years', 'thinness 5-9 years')\n",
      "\n",
      "\n",
      "Příznaky s nízkou korelací s vysvětlovanou proměnnou (< 0.1):\n",
      "\n",
      "Population\n"
     ]
    }
   ],
   "source": [
    "# Vytvořte korelační matici\n",
    "correlation_matrix = data.corr()\n",
    "\n",
    "high_correlation_pairs = []\n",
    "low_correlation_with_Y = []\n",
    "\n",
    "for i in range(len(correlation_matrix.columns)):\n",
    "    for j in range(i + 1, len(correlation_matrix.columns)):\n",
    "        if abs(correlation_matrix.iloc[i, j]) > 0.8:\n",
    "            pair = (correlation_matrix.columns[i], correlation_matrix.columns[j])\n",
    "            high_correlation_pairs.append(pair)\n",
    "\n",
    "for i in range(len(correlation_matrix.columns)):\n",
    "    if abs(correlation_matrix.iloc[1, i]) < 0.1:\n",
    "        pair = (correlation_matrix.columns[1], correlation_matrix.columns[i])\n",
    "        low_correlation_with_Y.append(pair)\n",
    "\n",
    "\n",
    "print(\"Dvojice s korelací > 0.8:\\n\")\n",
    "for _, pair in enumerate(high_correlation_pairs):\n",
    "    print(pair)\n",
    "\n",
    "print(\"\\n\\nPříznaky s nízkou korelací s vysvětlovanou proměnnou (< 0.1):\\n\")\n",
    "for _, pair in enumerate(low_correlation_with_Y):\n",
    "    print(pair[1])"
   ],
   "metadata": {
    "collapsed": false,
    "ExecuteTime": {
     "end_time": "2023-12-16T17:55:05.941890256Z",
     "start_time": "2023-12-16T17:55:05.664843748Z"
    }
   },
   "id": "da6a2167b409989e"
  },
  {
   "cell_type": "markdown",
   "source": [
    "Je vidět, že některé příznaky jsou silně korelované mezi sebou, proto jenom **PŘEDPOKLÁDÁME**, že volba Ridge regrese bude rozumná."
   ],
   "metadata": {
    "collapsed": false
   },
   "id": "46fee6c3bb5ce2bd"
  },
  {
   "cell_type": "markdown",
   "source": [
    "* Budeme hledat optimální $\\lambda$ pro Ridge regresi\n",
    "* Také vyzkoušíme Min-Max normalizaci a standardizaci\n",
    "* Použijeme nejlepší kombinaci hyperparametrů, nacvičíme model a najdeme RMSE na validační množině"
   ],
   "metadata": {
    "collapsed": false
   },
   "id": "de775f1cbcbb0f4c"
  },
  {
   "cell_type": "code",
   "execution_count": 60,
   "outputs": [
    {
     "data": {
      "text/plain": "<Figure size 864x720 with 1 Axes>",
      "image/png": "[encoded data removed]"
     },
     "metadata": {
      "needs_background": "light"
     },
     "output_type": "display_data"
    },
    {
     "name": "stdout",
     "output_type": "stream",
     "text": [
      "Optimal alpha      fun: 4.098010219388514\n",
      " message: 'Solution found.'\n",
      "    nfev: 17\n",
      "     nit: 17\n",
      "  status: 0\n",
      " success: True\n",
      "       x: 6.149003285265269\n",
      "\n",
      "\n",
      "Validační RMSE: 4.09801\n"
     ]
    }
   ],
   "source": [
    "def get_opt_ridge_model(Xtrain, Xval):\n",
    "    def ridgemodel_eval(alpha):\n",
    "        clf = Ridge(alpha=alpha)\n",
    "        clf.fit(Xtrain, ytrain)\n",
    "        return metrics.mean_squared_error(yval, clf.predict(Xval), squared = False)\n",
    "\n",
    "    alphas = np.linspace(1,500,100)\n",
    "    alphas_res = [ridgemodel_eval(alpha) for alpha in alphas]\n",
    "    plt.figure(figsize=(12, 10))\n",
    "    plt.plot(alphas, alphas_res, '.')\n",
    "    plt.show()\n",
    "\n",
    "    # get optimal alpha\n",
    "    opt_alpha = optimize.minimize_scalar(ridgemodel_eval, options = {'maxiter': 30}, method = 'bounded', bounds=(0.1, 400))\n",
    "    print('Optimal alpha', opt_alpha)\n",
    "    print(\"\\n\")\n",
    "\n",
    "    clf_opt_ridge = Ridge(alpha = opt_alpha.x)\n",
    "    clf_opt_ridge.fit(Xtrain, ytrain)\n",
    "    return clf_opt_ridge\n",
    "\n",
    "clf_opt_ridge = get_opt_ridge_model(Xtrain, Xval)\n",
    "RMSE_val_opt_ridge = metrics.mean_squared_error(yval, clf_opt_ridge.predict(Xval), squared = False)\n",
    "RMSE_dict['Ridge RMSE'] = RMSE_val_opt_ridge\n",
    "print(f'Validační RMSE: {RMSE_val_opt_ridge:.5f}')"
   ],
   "metadata": {
    "collapsed": false,
    "ExecuteTime": {
     "end_time": "2023-12-16T17:55:06.798589665Z",
     "start_time": "2023-12-16T17:55:05.705986117Z"
    }
   },
   "id": "8c0b7a43b577aeb3"
  },
  {
   "cell_type": "code",
   "execution_count": 61,
   "outputs": [
    {
     "data": {
      "text/plain": "<Figure size 864x720 with 1 Axes>",
      "image/png": "[encoded data removed]"
     },
     "metadata": {
      "needs_background": "light"
     },
     "output_type": "display_data"
    },
    {
     "name": "stdout",
     "output_type": "stream",
     "text": [
      "Optimal alpha      fun: 4.103685427216975\n",
      " message: 'Maximum number of function calls reached.'\n",
      "    nfev: 30\n",
      "     nit: 30\n",
      "  status: 1\n",
      " success: False\n",
      "       x: 0.10019571355463124\n",
      "\n",
      "\n",
      "Validační RMSE (Standardizace): 4.10369\n"
     ]
    }
   ],
   "source": [
    "clf_opt_ridge = get_opt_ridge_model(Xtrain_standard_scaled, Xval_standard_scaled)\n",
    "RMSE_val_opt_ridge = metrics.mean_squared_error(yval, clf_opt_ridge.predict(Xval_standard_scaled), squared = False)\n",
    "print(f'Validační RMSE (Standardizace): {RMSE_val_opt_ridge:.5f}')"
   ],
   "metadata": {
    "collapsed": false,
    "ExecuteTime": {
     "end_time": "2023-12-16T17:55:07.470565651Z",
     "start_time": "2023-12-16T17:55:06.785252636Z"
    }
   },
   "id": "4984de7e113f3242"
  },
  {
   "cell_type": "code",
   "execution_count": 62,
   "outputs": [
    {
     "data": {
      "text/plain": "<Figure size 864x720 with 1 Axes>",
      "image/png": "[encoded data removed]"
     },
     "metadata": {
      "needs_background": "light"
     },
     "output_type": "display_data"
    },
    {
     "name": "stdout",
     "output_type": "stream",
     "text": [
      "Optimal alpha      fun: 4.218413232339128\n",
      " message: 'Solution found.'\n",
      "    nfev: 20\n",
      "     nit: 20\n",
      "  status: 0\n",
      " success: True\n",
      "       x: 1.0258471905379578\n",
      "\n",
      "\n",
      "Validační RMSE (MinMax normalizace): 4.21841\n"
     ]
    }
   ],
   "source": [
    "clf_opt_ridge = get_opt_ridge_model(Xtrain_MinMax_scaled, Xval_MinMax_scaled)\n",
    "RMSE_val_opt_ridge = metrics.mean_squared_error(yval, clf_opt_ridge.predict(Xval_MinMax_scaled), squared = False)\n",
    "print(f'Validační RMSE (MinMax normalizace): {RMSE_val_opt_ridge:.5f}')"
   ],
   "metadata": {
    "collapsed": false,
    "ExecuteTime": {
     "end_time": "2023-12-16T17:55:07.998642022Z",
     "start_time": "2023-12-16T17:55:07.382069421Z"
    }
   },
   "id": "830e4317e7429beb"
  },
  {
   "cell_type": "markdown",
   "source": [
    "Vidíme, že Ridge regrese vykazuje přibližně dvakrát horší výsledek než Random Forest. Je to s největší pravděpodobností proto, že náš dataset obsahuje nepěkná data, nejjasnějším příkladem je atribut, který ukazuje populaci dané země v tomto roce. Tento atribut neadekvátně skáče (s rozdílem jednoho roku se zvyšuje nebo snižuje 100krát). Takové jevy lze pozorovat i v jiných atributech. V tomto ohledu vznikají **nelinearity v datech**, které Ridge regrese nemůže efektivně modelovat. Můžeme tedy konstatovat, že použití tohoto modelu bude v našem případě méně efektivní."
   ],
   "metadata": {
    "collapsed": false
   },
   "id": "a044610257fb1458"
  },
  {
   "cell_type": "markdown",
   "source": [
    "## AdaBoost\n",
    "* Výhody tohoto modelu\n",
    "    * Schopnost zachytit nelinearity: AdaBoost může být efektivní při zachycování nelinearit v datech\n",
    "    * Ochrana před přetrénováním: AdaBoost je obecně schopen dobře se vypořádat s přetrénováním díky technice váženého učení "
   ],
   "metadata": {
    "collapsed": false
   },
   "id": "bab4f5a04a76f664"
  },
  {
   "cell_type": "markdown",
   "source": [
    "* Stejně jako u Random Forest použijeme za podmodel rozhodovací strom\n",
    "* Budeme ladit skoro stejné hyperparametry jako u Random Forest (kromě hyperparametru `max_samples`)\n",
    "* Pak každou kombinaci vyzkoušíme na validační množině, abychom našli tu \"nejlepší\"\n",
    "* Použijeme nejlepší kombinaci hyperparametrů, nacvičíme model a najdeme RMSE na validační množině"
   ],
   "metadata": {
    "collapsed": false
   },
   "id": "f503becf3faffde9"
  },
  {
   "cell_type": "code",
   "execution_count": 63,
   "outputs": [
    {
     "name": "stdout",
     "output_type": "stream",
     "text": [
      "We found the best params {'normalization': 'MinMax', 'n_estimators': 90, 'max_features': None, 'max_depth': 7} with validation RMSE 2.07477.\n"
     ]
    },
    {
     "data": {
      "text/plain": "<matplotlib.legend.Legend at 0x7fa57a1fe080>"
     },
     "execution_count": 63,
     "metadata": {},
     "output_type": "execute_result"
    },
    {
     "data": {
      "text/plain": "<Figure size 1440x432 with 1 Axes>",
      "image/png": "[encoded data removed]"
     },
     "metadata": {
      "needs_background": "light"
     },
     "output_type": "display_data"
    }
   ],
   "source": [
    "# Hyperparametry\n",
    "param_grid = {\n",
    "    'n_estimators' : range(10, 100, 10),\n",
    "    'max_depth' : range(1, 8),\n",
    "    'max_features' : [None, \"sqrt\"],\n",
    "    'normalization' : [None, 'MinMax', 'Standard']\n",
    "}\n",
    "\n",
    "Xtrain = np.array(Xtrain, \"float64\")\n",
    "Xval = np.array(Xval, \"float64\")\n",
    "ytrain = np.array(ytrain, \"float64\")\n",
    "yval = np.array(yval, \"float64\")\n",
    "\n",
    "# Kombinace hyperparametrů\n",
    "param_comb = ParameterGrid(param_grid)\n",
    "\n",
    "# Ladění\n",
    "val_metric = []\n",
    "for params in param_comb:\n",
    "    estimator = DecisionTreeRegressor(max_depth=params[\"max_depth\"], max_features=params[\"max_features\"])\n",
    "    if params['normalization'] is None:\n",
    "        dt = AdaBoostRegressor(estimator=estimator, n_estimators=params[\"n_estimators\"], random_state = 42).fit(Xtrain, ytrain)\n",
    "        val_metric.append(metrics.mean_squared_error(yval, dt.predict(Xval), squared = False))\n",
    "    elif params['normalization'] == 'MinMax':\n",
    "        dt = AdaBoostRegressor(estimator=estimator, n_estimators=params[\"n_estimators\"], random_state = 42).fit(Xtrain_MinMax_scaled, ytrain)\n",
    "        val_metric.append(metrics.mean_squared_error(yval, dt.predict(Xval_MinMax_scaled), squared = False))\n",
    "    else:\n",
    "        dt = AdaBoostRegressor(estimator=estimator, n_estimators=params[\"n_estimators\"], random_state = 42).fit(Xtrain_standard_scaled, ytrain)\n",
    "        val_metric.append(metrics.mean_squared_error(yval, dt.predict(Xval_standard_scaled), squared = False))\n",
    "\n",
    "# Vizualizace výsledků\n",
    "best_params = param_comb[np.argmin(val_metric)]\n",
    "RMSE_dict['AdaBoost RMSE'] = min(val_metric)\n",
    "print(f\"We found the best params {best_params} with validation RMSE {min(val_metric):.06}.\")\n",
    "plt.figure(figsize=(20,6))\n",
    "plt.plot(val_metric,'ob-')\n",
    "plt.xlabel('Combination of parameters')\n",
    "plt.ylabel('RMSE')\n",
    "plt.legend(['Validation'])"
   ],
   "metadata": {
    "collapsed": false,
    "ExecuteTime": {
     "end_time": "2023-12-16T17:56:06.360572780Z",
     "start_time": "2023-12-16T17:55:07.891732451Z"
    }
   },
   "id": "ef5bd619a704fe0"
  },
  {
   "cell_type": "markdown",
   "source": [
    "* AdaBoost dosáhl hodnoty Root Mean Square Error (RMSE) 2.075, což je nižší než hodnota RMSE pro Random Forest (2.210)\n",
    "* Nižší hodnota RMSE naznačuje menší chybu predikce, což znamená, že model AdaBoost lépe odpovídá skutečným hodnotám délky dožití na validační množině\n",
    "* AdaBoost je efektivnější v oblasti generalizace na nová data"
   ],
   "metadata": {
    "collapsed": false
   },
   "id": "13fa58db04f7c866"
  },
  {
   "cell_type": "markdown",
   "source": [
    "## Výběr finálního model"
   ],
   "metadata": {
    "collapsed": false
   },
   "id": "966b9477dc8673df"
  },
  {
   "cell_type": "code",
   "execution_count": 67,
   "outputs": [
    {
     "name": "stdout",
     "output_type": "stream",
     "text": [
      "Random Forest RMSE : 2.20971\n",
      "Ridge RMSE : 4.09801\n",
      "AdaBoost RMSE : 2.07477\n"
     ]
    }
   ],
   "source": [
    "for item in RMSE_dict.items():\n",
    "    print(item[0], ':', item[1].round(5))"
   ],
   "metadata": {
    "collapsed": false,
    "ExecuteTime": {
     "end_time": "2023-12-16T18:07:49.195083259Z",
     "start_time": "2023-12-16T18:07:49.173920809Z"
    }
   },
   "id": "9e38bc68332951dc"
  },
  {
   "cell_type": "markdown",
   "source": [
    "* Výběr finálního modelu je také volbou hyperparametru, takže jej bude správně vybírat na základě výsledků RMSE na validační množině\n",
    "* Podle výsledků testování favoritem je AdaBoost"
   ],
   "metadata": {
    "collapsed": false
   },
   "id": "188800f0729f7501"
  },
  {
   "cell_type": "code",
   "execution_count": 65,
   "outputs": [
    {
     "name": "stdout",
     "output_type": "stream",
     "text": [
      "RMSE (test): 1.9456325015311602\n",
      "MAE  (test): 1.4061679209763185\n"
     ]
    }
   ],
   "source": [
    "estimator = DecisionTreeRegressor(max_depth=best_params[\"max_depth\"], max_features=best_params[\"max_features\"])\n",
    "adaboost = AdaBoostRegressor(estimator=estimator, n_estimators=best_params[\"n_estimators\"], random_state = 42).fit(Xtrain_MinMax_scaled, ytrain)\n",
    "\n",
    "predictions = adaboost.predict(Xtest_MinMax_scaled)\n",
    "RMSE = metrics.mean_squared_error(ytest, predictions, squared=False)\n",
    "MAE = metrics.mean_absolute_error(ytest, predictions)\n",
    "print(f'RMSE (test): {RMSE}')\n",
    "print(f'MAE  (test): {MAE}')"
   ],
   "metadata": {
    "collapsed": false,
    "ExecuteTime": {
     "end_time": "2023-12-16T17:56:07.037795750Z",
     "start_time": "2023-12-16T17:56:06.401924438Z"
    }
   },
   "id": "c3d36376a60192a4"
  },
  {
   "cell_type": "markdown",
   "source": [
    "1. RMSE na testovací množině (1.9456): \n",
    "    * Hodnota Root Mean Square Error (RMSE) 1.9456 na testovací množině ukazuje, jak dobře se model AdaBoost přizpůsobil novým datům. Nižší hodnota RMSE znamená menší chybu predikce a naznačuje, že model má schopnost přesně predikovat délku dožití na neviděných datech.\n",
    "\n",
    "2. MAE na testovací množině (1.4062): \n",
    "    * Mean Absolute Error (MAE) je další metrikou hodnotící přesnost modelu na testovací množině. Nižší hodnota MAE značí menší průměrnou absolutní odchylku mezi predikcemi a skutečnými hodnotami, což opět indikuje dobrý výkon modelu."
   ],
   "metadata": {
    "collapsed": false
   },
   "id": "243791ec094ed23d"
  },
  {
   "cell_type": "markdown",
   "source": [
    "* A konečně nacvičíme náš finální model na celém datasetu a uděláme pridikci dat z `evaluation.csv`\n",
    "* Výsledky uložíme do results.csv"
   ],
   "metadata": {
    "collapsed": false
   },
   "id": "aea1efd172f1ddcd"
  },
  {
   "cell_type": "code",
   "execution_count": 66,
   "outputs": [],
   "source": [
    "scale = MinMaxScaler()\n",
    "Xdata_scaled = scale.fit_transform(Xdata)\n",
    "evaluation_scaled = scale.transform(evaluation)\n",
    "\n",
    "estimator = DecisionTreeRegressor(max_depth=best_params[\"max_depth\"], max_features=best_params[\"max_features\"])\n",
    "finale_model = AdaBoostRegressor(estimator=estimator, n_estimators=best_params[\"n_estimators\"], random_state = 42).fit(Xdata_scaled, ydata)\n",
    "\n",
    "predict = finale_model.predict(evaluation_scaled).round(1)\n",
    "\n",
    "results = pd.DataFrame({'Country' : evaluation_country, 'Year' : evaluation_year, 'Life expectancy' : predict})\n",
    "results.to_csv('results.csv', index=False)"
   ],
   "metadata": {
    "collapsed": false,
    "ExecuteTime": {
     "end_time": "2023-12-16T17:56:07.951650514Z",
     "start_time": "2023-12-16T17:56:07.041786336Z"
    }
   },
   "id": "7ed18ae39236a735"
  }
 ],
 "metadata": {
  "kernelspec": {
   "display_name": "Python 3 (ipykernel)",
   "language": "python",
   "name": "python3"
  },
  "language_info": {
   "codemirror_mode": {
    "name": "ipython",
    "version": 3
   },
   "file_extension": ".py",
   "mimetype": "text/x-python",
   "name": "python",
   "nbconvert_exporter": "python",
   "pygments_lexer": "ipython3",
   "version": "3.10.11"
  }
 },
 "nbformat": 4,
 "nbformat_minor": 5
}
